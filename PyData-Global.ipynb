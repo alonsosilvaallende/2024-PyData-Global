{
 "cells": [
  {
   "cell_type": "raw",
   "id": "64daa4a0-8b38-4990-b141-5b0fd15194a4",
   "metadata": {},
   "source": [
    "---\n",
    "title: Building Knowledge Graph-Based Agents with Structured Text Generation and Open-Weights Models\n",
    "author: 'Alonso Silva (GitHub: alonsosilvaallende)'\n",
    "format:\n",
    "  revealjs:\n",
    "    theme: default\n",
    "    scrollable: true\n",
    "    toc: true\n",
    "    toc-depth: 1\n",
    "    slide-level: 3\n",
    "    slide-number: true\n",
    "filters:\n",
    "  - quarto\n",
    "  - line-highlight\n",
    "---"
   ]
  },
  {
   "cell_type": "code",
   "execution_count": 1,
   "id": "be6aee11-3d38-44ee-9bc8-47916b6d993f",
   "metadata": {
    "execution": {
     "iopub.execute_input": "2024-12-05T10:39:35.122297Z",
     "iopub.status.busy": "2024-12-05T10:39:35.121274Z",
     "iopub.status.idle": "2024-12-05T10:39:35.127754Z",
     "shell.execute_reply": "2024-12-05T10:39:35.126586Z",
     "shell.execute_reply.started": "2024-12-05T10:39:35.122243Z"
    }
   },
   "outputs": [],
   "source": [
    "from IPython.display import IFrame"
   ]
  },
  {
   "cell_type": "markdown",
   "id": "605e8746-d877-44ea-afc9-0ff0aa0f450d",
   "metadata": {},
   "source": [
    "### hi 👋, I'm Alonso {.smaller}\n",
    "\n",
    "- Researcher on Generative AI at Nokia Bell Labs\n",
    "- AI Consultant/Trainer\n",
    "- PhD at Inria, post-doc at UC Berkeley\n",
    "- Based in Paris, France\n",
    "- [https://alonsosilvaallende.github.io/](https://alonsosilvaallende.github.io/)\n",
    "    - Github: [https://github.com/alonsosilvaallende/](https://github.com/alonsosilvaallende/)\n",
    "    - Twitter: [@alonsosilva](https://twitter.com/alonsosilva)\n",
    "    - Bluesky: [https://bsky.app/profile/alonsosilva.bsky.social](https://bsky.app/profile/alonsosilva.bsky.social)\n",
    "    - Mastodon: [https://sigmoid.social/@alonsosilva](https://sigmoid.social/@alonsosilva)\n",
    "    - Linkedin: [https://www.linkedin.com/in/alonsosilvaallende/](https://www.linkedin.com/in/alonsosilvaallende/)"
   ]
  },
  {
   "cell_type": "markdown",
   "id": "628432fc-e6d7-4d02-a1ec-e1f0c1a6a2f1",
   "metadata": {},
   "source": [
    "# Introduction"
   ]
  },
  {
   "cell_type": "markdown",
   "id": "d846bfde-6934-41d9-8429-350509717b1b",
   "metadata": {},
   "source": [
    "##\n",
    "::: {style=\"margin-top: 100px; font-size: 2em; color: black;\"}\n",
    "The problem\n",
    ":::"
   ]
  },
  {
   "cell_type": "markdown",
   "id": "90f6a9b9-71db-47d8-920e-f478c5d8feb1",
   "metadata": {
    "jp-MarkdownHeadingCollapsed": true
   },
   "source": [
    "##\n",
    "\n",
    "![scikit-llm: [https://skllm.beastbyte.ai/](https://skllm.beastbyte.ai/)](./assets/scikit-llm.jpg \"scikit-llm Homepage\"){ width=50% }\n",
    "\n",
    "### Show me the prompt!\n",
    "\n",
    "![scikit-llm prompts: [https://github.com/iryna-kondr/scikit-llm/blob/main/skllm/prompts/templates.py](https://github.com/iryna-kondr/scikit-llm/blob/main/skllm/prompts/templates.py)](./assets/scikit-llm-prompt.jpg \"scikit-llm prompt\"){ width=25% }\n",
    "\n",
    "###\n",
    "\n",
    "![](./assets/we-can-do-better.jpg \"We can do better!\"){ width=50% }"
   ]
  },
  {
   "cell_type": "markdown",
   "id": "cca5d125-f49d-4aa4-8c37-983e1d5ac76c",
   "metadata": {},
   "source": [
    "###\n",
    "::: {style=\"margin-top: 200px; font-size: 2em; color: black;\"}\n",
    "What is NOT Structured Generation?\n",
    ":::"
   ]
  },
  {
   "cell_type": "markdown",
   "id": "ef2b6036-1020-423f-9750-24ff321fab48",
   "metadata": {},
   "source": [
    "### Structured Outputs (in the style of Instructor/Marvin libraries)"
   ]
  },
  {
   "cell_type": "markdown",
   "id": "986af532-b687-4b90-9b97-e05c14db5f2c",
   "metadata": {},
   "source": [
    "- Instructor: [https://python.useinstructor.com/](https://python.useinstructor.com/)\n",
    "- Marvin: [https://www.askmarvin.ai/](https://www.askmarvin.ai/)"
   ]
  },
  {
   "cell_type": "markdown",
   "id": "d5162204-6f02-4718-92a6-1db0c6bb4614",
   "metadata": {},
   "source": [
    ":::: {.content-hidden}\n",
    "\n",
    "::: {.column width=\"30%\"}\n",
    "![](./assets/llama-cpp-logo.png \"llama.cpp logo\"){width=\"50%\"}\n",
    ":::\n",
    "\n",
    "::: {.column width=\"40%\"}\n",
    "![](./assets/llama-cpp-python-logo.svg \"llama-cpp-python logo\"){width=\"30%\"}\n",
    ":::\n",
    "\n",
    "::: {.column width=\"30%\"}\n",
    "![](./assets/NousResearch.jpg \"NousResearch logo\"){width=\"30%\"}\n",
    ":::\n",
    "\n",
    "::::"
   ]
  },
  {
   "cell_type": "markdown",
   "id": "4cd196d3-079d-42d6-850f-8fedc72b0daa",
   "metadata": {},
   "source": [
    "### Structured Outputs in Code"
   ]
  },
  {
   "cell_type": "code",
   "execution_count": 2,
   "id": "53a0a841-88d2-4265-b635-d28e0b772263",
   "metadata": {
    "execution": {
     "iopub.execute_input": "2024-12-05T10:39:35.129254Z",
     "iopub.status.busy": "2024-12-05T10:39:35.128770Z",
     "iopub.status.idle": "2024-12-05T10:39:39.746264Z",
     "shell.execute_reply": "2024-12-05T10:39:39.745241Z",
     "shell.execute_reply.started": "2024-12-05T10:39:35.129193Z"
    },
    "scrolled": true
   },
   "outputs": [
    {
     "name": "stderr",
     "output_type": "stream",
     "text": [
      "llama_new_context_with_model: n_ctx_per_seq (8192) < n_ctx_train (131072) -- the full capacity of the model will not be utilized\n"
     ]
    }
   ],
   "source": [
    "#| echo: true\n",
    "import llama_cpp  \n",
    "\n",
    "model_id = \"NousResearch/Hermes-3-Llama-3.1-8B\" # <1>\n",
    "llm = llama_cpp.Llama(  # <2>\n",
    "    \"/big_storage/llms/models/Hermes-3-Llama-3.1-8B.Q6_K.gguf\",\n",
    "    tokenizer=llama_cpp.llama_tokenizer.LlamaHFTokenizer.from_pretrained(\n",
    "        model_id\n",
    "    ),\n",
    "    n_gpu_layers=-1,\n",
    "    flash_attn=True,\n",
    "    n_ctx=8192,\n",
    "    verbose=False,\n",
    "    chat_format=\"chatml-function-calling\"\n",
    ")"
   ]
  },
  {
   "cell_type": "markdown",
   "id": "2e85e7a9-d96f-4282-8e9a-6cd3f4c179b8",
   "metadata": {},
   "source": [
    "1. [Hermes 3](https://nousresearch.com/hermes3/) by [NousResearch](https://nousresearch.com/)\n",
    "2. [llama-cpp-python](https://llama-cpp-python.readthedocs.io/) python bindings for [llama.cpp](https://github.com/ggerganov/llama.cpp)"
   ]
  },
  {
   "cell_type": "markdown",
   "id": "ac834650-0ab6-4e58-a7e8-245fa79208d6",
   "metadata": {},
   "source": [
    "### Structured Outputs in Code"
   ]
  },
  {
   "cell_type": "code",
   "execution_count": 3,
   "id": "1dab1c8f-18c7-4fcd-98ad-42f8eaeb0013",
   "metadata": {
    "execution": {
     "iopub.execute_input": "2024-12-05T10:39:39.747187Z",
     "iopub.status.busy": "2024-12-05T10:39:39.746902Z",
     "iopub.status.idle": "2024-12-05T10:39:39.906251Z",
     "shell.execute_reply": "2024-12-05T10:39:39.905409Z",
     "shell.execute_reply.started": "2024-12-05T10:39:39.747173Z"
    }
   },
   "outputs": [],
   "source": [
    "#| echo: true\n",
    "from typing import Literal\n",
    "\n",
    "from pydantic import BaseModel, Field\n",
    "\n",
    "\n",
    "class Sentiment(BaseModel):\n",
    "    \"\"\"Correctly inferred `Sentiment` with all the required parameters\n",
    "    with correct types.\"\"\"\n",
    "\n",
    "    label: Literal[\"Positive\", \"Negative\"] = Field(\n",
    "        ..., description=\"Sentiment of the text\"\n",
    "    )"
   ]
  },
  {
   "cell_type": "markdown",
   "id": "b2db961d-861c-4e50-862e-389ac726739a",
   "metadata": {},
   "source": [
    "### Structured Outputs in Code"
   ]
  },
  {
   "cell_type": "code",
   "execution_count": 4,
   "id": "c08d3308-7b15-4001-8f59-8c13cf9f4eda",
   "metadata": {
    "execution": {
     "iopub.execute_input": "2024-12-05T10:39:39.907004Z",
     "iopub.status.busy": "2024-12-05T10:39:39.906853Z",
     "iopub.status.idle": "2024-12-05T10:39:40.280296Z",
     "shell.execute_reply": "2024-12-05T10:39:40.279682Z",
     "shell.execute_reply.started": "2024-12-05T10:39:39.906992Z"
    }
   },
   "outputs": [
    {
     "data": {
      "text/plain": [
       "[{'type': 'function',\n",
       "  'function': {'name': 'Sentiment',\n",
       "   'description': 'Correctly inferred `Sentiment` with all the required parameters\\nwith correct types.',\n",
       "   'parameters': {'properties': {'label': {'description': 'Sentiment of the text',\n",
       "      'enum': ['Positive', 'Negative'],\n",
       "      'type': 'string'}},\n",
       "    'required': ['label'],\n",
       "    'type': 'object'}}}]"
      ]
     },
     "execution_count": 4,
     "metadata": {},
     "output_type": "execute_result"
    }
   ],
   "source": [
    "#| echo: true\n",
    "from langchain_core.utils.function_calling import convert_to_openai_tool\n",
    "\n",
    "tools = [convert_to_openai_tool(Sentiment)]\n",
    "tools"
   ]
  },
  {
   "cell_type": "code",
   "execution_count": 5,
   "id": "bf9ecf69-0ec1-4f57-9a35-530ca3b3ddaa",
   "metadata": {
    "execution": {
     "iopub.execute_input": "2024-12-05T10:39:40.281009Z",
     "iopub.status.busy": "2024-12-05T10:39:40.280870Z",
     "iopub.status.idle": "2024-12-05T10:39:40.284093Z",
     "shell.execute_reply": "2024-12-05T10:39:40.283507Z",
     "shell.execute_reply.started": "2024-12-05T10:39:40.280996Z"
    }
   },
   "outputs": [],
   "source": [
    "import warnings\n",
    "warnings.filterwarnings(\"ignore\", category=RuntimeWarning)"
   ]
  },
  {
   "cell_type": "markdown",
   "id": "8b8b170e-632c-4c77-b34e-5d09e9cb2983",
   "metadata": {},
   "source": [
    "### Structured Outputs in Code"
   ]
  },
  {
   "cell_type": "code",
   "execution_count": 6,
   "id": "6f3133ef-c7ba-4d4a-8790-fbb29e39c24b",
   "metadata": {
    "execution": {
     "iopub.execute_input": "2024-12-05T10:39:40.285586Z",
     "iopub.status.busy": "2024-12-05T10:39:40.285382Z",
     "iopub.status.idle": "2024-12-05T10:39:40.716666Z",
     "shell.execute_reply": "2024-12-05T10:39:40.716018Z",
     "shell.execute_reply.started": "2024-12-05T10:39:40.285572Z"
    }
   },
   "outputs": [
    {
     "data": {
      "text/plain": [
       "'{ \"label\": \"Positive\"}'"
      ]
     },
     "execution_count": 6,
     "metadata": {},
     "output_type": "execute_result"
    }
   ],
   "source": [
    "#| echo: true\n",
    "#| code-line-numbers: \"1-17|1|1,8-9|1,8-9,13-14\"\n",
    "user_input = \"You are great\"\n",
    "\n",
    "output = llm.create_chat_completion(\n",
    "    messages=[\n",
    "        {\n",
    "            \"role\": \"user\",\n",
    "            \"content\": (\n",
    "                \"What is the sentiment conveyed in the following text: \"\n",
    "                f\"{user_input}.\"\n",
    "            ),\n",
    "        },\n",
    "    ],\n",
    "    tools=tools,\n",
    "    tool_choice={\"type\": \"function\", \"function\": {\"name\": \"Sentiment\"}},\n",
    ")\n",
    "\n",
    "output[\"choices\"][0][\"message\"][\"tool_calls\"][0][\"function\"][\"arguments\"]"
   ]
  },
  {
   "cell_type": "markdown",
   "id": "07844889-943a-46dc-9ebc-89bec5c56f51",
   "metadata": {
    "execution": {
     "iopub.execute_input": "2024-12-03T09:10:39.409363Z",
     "iopub.status.busy": "2024-12-03T09:10:39.408753Z",
     "iopub.status.idle": "2024-12-03T09:10:39.606112Z",
     "shell.execute_reply": "2024-12-03T09:10:39.604360Z",
     "shell.execute_reply.started": "2024-12-03T09:10:39.409318Z"
    }
   },
   "source": [
    "##\n",
    "\n",
    "![](./assets/we-can-do-better.jpg \"We can do better!\"){ width=50% }"
   ]
  },
  {
   "cell_type": "markdown",
   "id": "e1d73663-75e1-4890-a09f-bb196154735d",
   "metadata": {},
   "source": [
    "# What is Structured Generation?"
   ]
  },
  {
   "cell_type": "markdown",
   "id": "479f4e42-b533-4412-84e3-7b735c0213e6",
   "metadata": {},
   "source": [
    "### {.nostretch}\n",
    "\n",
    "![](./assets/outlines-logo.webp \"Outlines logo\"){width=\"40%\"}\n",
    "\n",
    "[https://dottxt-ai.github.io/outlines/](https://dottxt-ai.github.io/outlines/)"
   ]
  },
  {
   "cell_type": "markdown",
   "id": "685ef26b-4118-41f4-bd33-669c79809b17",
   "metadata": {},
   "source": [
    "### Observation: LLMs are samplers\n",
    "\n",
    "[https://alonsosilva-nexttokenprediction.hf.space](https://alonsosilva-nexttokenprediction.hf.space)"
   ]
  },
  {
   "cell_type": "code",
   "execution_count": 7,
   "id": "c794ba07-f3f4-4048-a288-3b68fa1140cc",
   "metadata": {
    "execution": {
     "iopub.execute_input": "2024-12-05T10:39:40.717390Z",
     "iopub.status.busy": "2024-12-05T10:39:40.717244Z",
     "iopub.status.idle": "2024-12-05T10:39:40.721605Z",
     "shell.execute_reply": "2024-12-05T10:39:40.721036Z",
     "shell.execute_reply.started": "2024-12-05T10:39:40.717377Z"
    }
   },
   "outputs": [
    {
     "data": {
      "text/html": [
       "\n",
       "        <iframe\n",
       "            width=\"950\"\n",
       "            height=\"450\"\n",
       "            src=\"https://alonsosilva-nexttokenprediction.hf.space\"\n",
       "            frameborder=\"0\"\n",
       "            allowfullscreen\n",
       "            \n",
       "        ></iframe>\n",
       "        "
      ],
      "text/plain": [
       "<IPython.lib.display.IFrame at 0x7b76190bea80>"
      ]
     },
     "execution_count": 7,
     "metadata": {},
     "output_type": "execute_result"
    }
   ],
   "source": [
    "IFrame(\"https://alonsosilva-nexttokenprediction.hf.space\", width=950, height=450)"
   ]
  },
  {
   "cell_type": "markdown",
   "id": "48090427-41f6-4c1e-ab6c-44bb7f83809f",
   "metadata": {},
   "source": [
    "###  We need to talk about Regular Expressions (regex)\n",
    "\n",
    "![](./assets/torture-regex.jpg \"Let the torture commence meme\"){ width=50% }"
   ]
  },
  {
   "cell_type": "markdown",
   "id": "42454d1b-a6a8-4cc7-8e96-c789b32aa0a8",
   "metadata": {
    "jp-MarkdownHeadingCollapsed": true
   },
   "source": [
    "### Regular Expression (regex)\n",
    "\n",
    "![](./assets/regex_chatgpt.jpg \"ChatGPT explaining the regex a*b*\"){ width=25% }"
   ]
  },
  {
   "cell_type": "markdown",
   "id": "2bac88fd-5303-4e9e-a546-a7fe7fcd32fe",
   "metadata": {},
   "source": [
    "### Deterministic Finite Automata (DFA) {.nostretch}\n",
    "\n",
    "![](./assets/Structured-Generation-1.jpg \"Diagrams explaining\"){fig-align=\"center\" width=\"50%\"}\n",
    "\n",
    "[Fast, High-Fidelity LLM Decoding with Regex Constraints](https://github.com/vivien000/regex-constrained-decoding) by [Vivien Tran-Thien](https://github.com/vivien000)"
   ]
  },
  {
   "cell_type": "markdown",
   "id": "38299e9f-3f2d-4d5c-9d14-be7df1d0096d",
   "metadata": {},
   "source": [
    "### Deterministic Finite Automata (DFA) {.nostretch}\n",
    "\n",
    "![](./assets/Structured-Generation-2.jpg \"Diagrams explaining\"){fig-align=\"center\" width=\"50%\"}\n",
    "\n",
    "[Fast, High-Fidelity LLM Decoding with Regex Constraints](https://github.com/vivien000/regex-constrained-decoding) by [Vivien Tran-Thien](https://github.com/vivien000)"
   ]
  },
  {
   "cell_type": "markdown",
   "id": "995311a9-de9b-4bb3-8ebd-137b13e0c1dd",
   "metadata": {},
   "source": [
    "### Deterministic Finite Automata (DFA) {.nostretch}\n",
    "\n",
    "![](./assets/Structured-Generation-3.jpg \"Diagrams explaining\"){fig-align=\"center\" width=\"60%\"}\n",
    "\n",
    "[Fast, High-Fidelity LLM Decoding with Regex Constraints](https://github.com/vivien000/regex-constrained-decoding) by [Vivien Tran-Thien](https://github.com/vivien000)"
   ]
  },
  {
   "cell_type": "markdown",
   "id": "a862efbd-41d3-4ade-b392-e54da3d73323",
   "metadata": {
    "jp-MarkdownHeadingCollapsed": true
   },
   "source": [
    "### Back to the problem\n",
    "\n",
    "![scikit-llm prompts: [https://github.com/iryna-kondr/scikit-llm/blob/main/skllm/prompts/templates.py](https://github.com/iryna-kondr/scikit-llm/blob/main/skllm/prompts/templates.py)](./assets/scikit-llm-prompt.jpg \"scikit-llm prompt\"){ width=25% }\n",
    "\n",
    "### From regular expression (regex) to deterministic finite automata (DFA)\n",
    "\n",
    "For example, for sentiment analysis:\n",
    "\n",
    "![](./assets/fsm-simple.jpg){ width=25% }\n",
    "\n",
    "### Life is hard\n",
    "\n",
    "![](./assets/fsm-full.jpg){ width=25% }\n",
    "\n",
    "### What's in a \"label\"?\n",
    "\n",
    "![](./assets/what-is-in-a-label.jpg){ width=25% }"
   ]
  },
  {
   "cell_type": "markdown",
   "id": "93626572-a0c5-4caf-892a-7cec809e3ad9",
   "metadata": {},
   "source": [
    "### Structured Generation in Code"
   ]
  },
  {
   "cell_type": "code",
   "execution_count": 8,
   "id": "d22b6c1d-4b76-421e-90c3-d85fd15d1965",
   "metadata": {
    "execution": {
     "iopub.execute_input": "2024-12-05T10:39:40.722205Z",
     "iopub.status.busy": "2024-12-05T10:39:40.722061Z",
     "iopub.status.idle": "2024-12-05T10:39:42.153702Z",
     "shell.execute_reply": "2024-12-05T10:39:42.152430Z",
     "shell.execute_reply.started": "2024-12-05T10:39:40.722191Z"
    }
   },
   "outputs": [],
   "source": [
    "#| echo: true\n",
    "#| source-line-numbers: \"3\"\n",
    "#| class-source: \"numberLines\"\n",
    "import outlines\n",
    "\n",
    "import transformers\n",
    "\n",
    "outlines_tokenizer = outlines.models.TransformerTokenizer(\n",
    "    transformers.AutoTokenizer.from_pretrained(model_id)\n",
    ")\n",
    "\n",
    "outlines_logits_processor = outlines.processors.JSONLogitsProcessor(\n",
    "    Sentiment,\n",
    "    outlines_tokenizer,\n",
    "    whitespace_pattern=r\"[\\n\\t ]*\"  # <1>\n",
    ")"
   ]
  },
  {
   "cell_type": "markdown",
   "id": "1b1c856c-42fd-4a45-ba1a-f57138c39082",
   "metadata": {},
   "source": [
    "1. I like to give the language model some structure but also some leeway."
   ]
  },
  {
   "cell_type": "markdown",
   "id": "4e7d2045-96f9-45b6-85e1-ec53a2c3794f",
   "metadata": {},
   "source": [
    "### Structured Generation in Code"
   ]
  },
  {
   "cell_type": "code",
   "execution_count": 9,
   "id": "0d3b3dff-a14f-4aeb-a9a7-b3b708648de6",
   "metadata": {
    "execution": {
     "iopub.execute_input": "2024-12-05T10:39:42.154559Z",
     "iopub.status.busy": "2024-12-05T10:39:42.154386Z",
     "iopub.status.idle": "2024-12-05T10:39:42.348342Z",
     "shell.execute_reply": "2024-12-05T10:39:42.347700Z",
     "shell.execute_reply.started": "2024-12-05T10:39:42.154541Z"
    }
   },
   "outputs": [
    {
     "data": {
      "text/plain": [
       "'{ \"label\": \"Positive\" }'"
      ]
     },
     "execution_count": 9,
     "metadata": {},
     "output_type": "execute_result"
    }
   ],
   "source": [
    "#| echo: true\n",
    "#| code-line-numbers: \"1-18|13-15\"\n",
    "user_input = \"You are great\"\n",
    "\n",
    "output = llm.create_chat_completion(\n",
    "    messages=[\n",
    "        {\n",
    "            \"role\": \"user\",\n",
    "            \"content\": (\n",
    "                \"What is the sentiment conveyed in the following text: \"\n",
    "                f\"{user_input}.\"\n",
    "            ),\n",
    "        },\n",
    "    ],\n",
    "    logits_processor=transformers.LogitsProcessorList(\n",
    "        [outlines_logits_processor]\n",
    "    ),\n",
    ")\n",
    "\n",
    "output[\"choices\"][0][\"message\"][\"content\"]"
   ]
  },
  {
   "cell_type": "markdown",
   "id": "9f9f69a6-ed68-46a3-8454-370127321270",
   "metadata": {},
   "source": [
    "## Structured Outputs + Structured Generation"
   ]
  },
  {
   "cell_type": "markdown",
   "id": "91255e93-c6b6-4c0d-a700-1f8eaf961c5f",
   "metadata": {},
   "source": [
    "###"
   ]
  },
  {
   "cell_type": "code",
   "execution_count": 10,
   "id": "f4cdae85-e558-4859-b2a8-377a302875e9",
   "metadata": {
    "execution": {
     "iopub.execute_input": "2024-12-05T10:39:42.349924Z",
     "iopub.status.busy": "2024-12-05T10:39:42.349362Z",
     "iopub.status.idle": "2024-12-05T10:39:42.507946Z",
     "shell.execute_reply": "2024-12-05T10:39:42.506695Z",
     "shell.execute_reply.started": "2024-12-05T10:39:42.349888Z"
    }
   },
   "outputs": [],
   "source": [
    "outlines_logits_processor = outlines.processors.JSONLogitsProcessor(\n",
    "    Sentiment,\n",
    "    outlines_tokenizer,\n",
    "    whitespace_pattern=r\"[\\n\\t ]*\"\n",
    ")"
   ]
  },
  {
   "cell_type": "code",
   "execution_count": 11,
   "id": "04265e11-0c76-4809-ad60-7696ad5af123",
   "metadata": {
    "execution": {
     "iopub.execute_input": "2024-12-05T10:39:42.509602Z",
     "iopub.status.busy": "2024-12-05T10:39:42.509089Z",
     "iopub.status.idle": "2024-12-05T10:39:42.887668Z",
     "shell.execute_reply": "2024-12-05T10:39:42.887020Z",
     "shell.execute_reply.started": "2024-12-05T10:39:42.509562Z"
    }
   },
   "outputs": [
    {
     "data": {
      "text/plain": [
       "'{ \"label\": \"Positive\"}'"
      ]
     },
     "execution_count": 11,
     "metadata": {},
     "output_type": "execute_result"
    }
   ],
   "source": [
    "#| echo: true\n",
    "#| code-line-numbers: \"1-18|12-13|14-16|1-18\"\n",
    "user_input = \"You are great\"\n",
    "output = llm.create_chat_completion(\n",
    "    messages=[\n",
    "        {\n",
    "            \"role\": \"user\",\n",
    "            \"content\": (\n",
    "                \"What is the sentiment conveyed in the following text: \"\n",
    "                f\"{user_input}.\"\n",
    "            ),\n",
    "        },\n",
    "    ],\n",
    "    tools=tools,  # <1>\n",
    "    tool_choice={\"type\": \"function\", \"function\": {\"name\": \"Sentiment\"}}, # <1>\n",
    "    logits_processor=transformers.LogitsProcessorList(  # <2>\n",
    "        [outlines_logits_processor]  # <2>\n",
    "    ),  # <2>\n",
    ")\n",
    "output[\"choices\"][0][\"message\"][\"tool_calls\"][0][\"function\"][\"arguments\"]"
   ]
  },
  {
   "cell_type": "markdown",
   "id": "bb5175e0-076c-4e7e-9080-f0ad67af9ef6",
   "metadata": {},
   "source": [
    "1. Structured Outputs\n",
    "2. Structured Generation"
   ]
  },
  {
   "cell_type": "markdown",
   "id": "169d1115-4866-4e8a-aa60-f869c3d4e4a9",
   "metadata": {},
   "source": [
    "# Knowledge Graph Generation"
   ]
  },
  {
   "cell_type": "markdown",
   "id": "c43442fd-0631-44a8-b630-4696c0297fd6",
   "metadata": {},
   "source": [
    "### {.nostretch}\n",
    "\n",
    "![](./assets/kuzu-logo.png \"Kùzu logo\"){width=\"40%\"}\n",
    "\n",
    "Graph database: [https://kuzudb.com/](https://kuzudb.com/)"
   ]
  },
  {
   "cell_type": "markdown",
   "id": "4c4c5952-ad01-4679-9029-81e7e641d836",
   "metadata": {},
   "source": [
    "### Consider a text"
   ]
  },
  {
   "cell_type": "code",
   "execution_count": 12,
   "id": "19d5ebc8-553b-48f2-b15f-8498c0ebdd4f",
   "metadata": {
    "execution": {
     "iopub.execute_input": "2024-12-05T10:39:42.888411Z",
     "iopub.status.busy": "2024-12-05T10:39:42.888259Z",
     "iopub.status.idle": "2024-12-05T10:39:42.892556Z",
     "shell.execute_reply": "2024-12-05T10:39:42.891939Z",
     "shell.execute_reply.started": "2024-12-05T10:39:42.888397Z"
    }
   },
   "outputs": [
    {
     "name": "stdout",
     "output_type": "stream",
     "text": [
      "When Marie Curie came to the United States for the first time, in May 1921, she had already discovered the elements radium and polonium, coined the term “radio-active” and won the Nobel Prize—twice. But the Polish-born scientist, almost pathologically shy and accustomed to spending most of her time in her Paris laboratory, was stunned by the fanfare that greeted her. In 1898 she indeed identified one of the substances and named it polonium, after her homeland. Five months later, she identified a second element, which the world came to know as radium. Curie described the elements she studied as “radio-active.”\n",
      "\n",
      "In 1894, she met Pierre Curie, a 35-year-old physicist at a French technical college who had been studying crystals and magnetism. More than a decade before, he and his brother Jacques had discovered piezoelectricity, the electric charge produced in solid materials under pressure. Pierre was taken by Marie’s uncommon intellect and drive, and he proposed to her. They were married in 1895 in a civil service attended by family and a few friends.\n",
      "\n",
      "Both Curies shared the Nobel Prize in physics with Becquerel in 1903. It was the first Nobel to be awarded to a woman. In 1911, rumors spread that Curie was having an affair with the prominent physicist Paul Langevin, a man five years her junior who had been Pierre’s student and had worked closely with Albert Einstein. The front-page coverage of the scandal threatened to overshadow another news story later that year: her second Nobel Prize.\n",
      "\n",
      "This one, in chemistry, was for the discovery of polonium and radium. In her acceptance speech in Stockholm, she paid tribute to her husband but also made clear that her work was independent from his, spelling out their separate contributions and describing the discoveries she had made after his death.\n",
      "\n"
     ]
    }
   ],
   "source": [
    "#| echo: true\n",
    "with open('./assets/curie.txt', \"r\") as f:\n",
    "    curie_text = f.read()\n",
    "print(curie_text)"
   ]
  },
  {
   "cell_type": "markdown",
   "id": "2a02e45f-e31b-4fec-b972-3bc800c9291c",
   "metadata": {},
   "source": [
    "### Chunk the text"
   ]
  },
  {
   "cell_type": "code",
   "execution_count": 13,
   "id": "288a6b2b-e677-44c7-aef4-4c8de6a9bacf",
   "metadata": {
    "execution": {
     "iopub.execute_input": "2024-12-05T10:39:42.893050Z",
     "iopub.status.busy": "2024-12-05T10:39:42.892930Z",
     "iopub.status.idle": "2024-12-05T10:39:42.915256Z",
     "shell.execute_reply": "2024-12-05T10:39:42.914150Z",
     "shell.execute_reply.started": "2024-12-05T10:39:42.893039Z"
    }
   },
   "outputs": [
    {
     "data": {
      "text/plain": [
       "['When Marie Curie came to the United States for the first time, in May 1921, she had already discovered the elements radium and polonium, coined the term “radio-active” and won the Nobel Prize—twice. But the Polish-born scientist, almost pathologically shy and accustomed to spending most of her time in her Paris laboratory, was stunned by the fanfare that greeted her. In 1898 she indeed identified one of the substances and named it polonium, after her homeland. Five months later, she identified a second element, which the world came to know as radium. Curie described the elements she studied as “radio-active.”',\n",
       " 'In 1894, she met Pierre Curie, a 35-year-old physicist at a French technical college who had been studying crystals and magnetism. More than a decade before, he and his brother Jacques had discovered piezoelectricity, the electric charge produced in solid materials under pressure. Pierre was taken by Marie’s uncommon intellect and drive, and he proposed to her. They were married in 1895 in a civil service attended by family and a few friends.',\n",
       " 'Both Curies shared the Nobel Prize in physics with Becquerel in 1903. It was the first Nobel to be awarded to a woman. In 1911, rumors spread that Curie was having an affair with the prominent physicist Paul Langevin, a man five years her junior who had been Pierre’s student and had worked closely with Albert Einstein. The front-page coverage of the scandal threatened to overshadow another news story later that year: her second Nobel Prize.',\n",
       " 'This one, in chemistry, was for the discovery of polonium and radium. In her acceptance speech in Stockholm, she paid tribute to her husband but also made clear that her work was independent from his, spelling out their separate contributions and describing the discoveries she had made after his death.\\n']"
      ]
     },
     "execution_count": 13,
     "metadata": {},
     "output_type": "execute_result"
    }
   ],
   "source": [
    "#| echo: true\n",
    "texts = curie_text.split(\"\\n\\n\")\n",
    "texts"
   ]
  },
  {
   "cell_type": "markdown",
   "id": "99ad0f7f-311b-474e-9848-e9edbb7361d5",
   "metadata": {},
   "source": [
    "###"
   ]
  },
  {
   "cell_type": "code",
   "execution_count": 14,
   "id": "5c9c53bd-eed7-413b-b080-11023fff2252",
   "metadata": {
    "execution": {
     "iopub.execute_input": "2024-12-05T10:39:42.916816Z",
     "iopub.status.busy": "2024-12-05T10:39:42.916310Z",
     "iopub.status.idle": "2024-12-05T10:39:42.933275Z",
     "shell.execute_reply": "2024-12-05T10:39:42.932136Z",
     "shell.execute_reply.started": "2024-12-05T10:39:42.916778Z"
    }
   },
   "outputs": [],
   "source": [
    "#| echo: true\n",
    "from pydantic import BaseModel, Field\n",
    "from typing import Optional\n",
    "\n",
    "class Node(BaseModel):\n",
    "    \"\"\"Node of the Knowledge Graph\"\"\"\n",
    "    id: int = Field(\n",
    "        ..., description=\"Unique identifier of the node starting at zero\"\n",
    "    )\n",
    "    type: str = Field(..., description=\"Type of the node\")\n",
    "    label: str = Field(..., description=\"Label of the node\")\n",
    "\n",
    "class Edge(BaseModel):\n",
    "    \"\"\"Edge of the Knowledge Graph\"\"\"\n",
    "    source: int = Field(..., description=\"Unique source of the edge\")\n",
    "    target: int = Field(..., description=\"Unique target of the edge\")\n",
    "    type: str = Field(..., description=\"Type of the edge\")\n",
    "    label: str = Field(..., description=\"Label of the edge\")"
   ]
  },
  {
   "cell_type": "code",
   "execution_count": 15,
   "id": "f5b3b796-fdeb-4848-a922-f705d6c87486",
   "metadata": {
    "execution": {
     "iopub.execute_input": "2024-12-05T10:39:42.934922Z",
     "iopub.status.busy": "2024-12-05T10:39:42.934420Z",
     "iopub.status.idle": "2024-12-05T10:39:42.949394Z",
     "shell.execute_reply": "2024-12-05T10:39:42.948468Z",
     "shell.execute_reply.started": "2024-12-05T10:39:42.934884Z"
    }
   },
   "outputs": [],
   "source": [
    "#| output: false\n",
    "# from pydantic import BaseModel, Field\n",
    "# from typing import Optional\n",
    "\n",
    "# class Node(BaseModel):\n",
    "#     \"\"\"Node of the Knowledge Graph\"\"\"\n",
    "#     id: int = Field(..., description=\"Unique identifier of the node\")\n",
    "#     type: str = Field(..., description=\"Type of the node\")\n",
    "#     label: str = Field(..., description=\"Label of the node\")\n",
    "#     property: Optional[str] = Field(\n",
    "#         default=None, description=\"Property of the node\")\n",
    "# class Edge(BaseModel):\n",
    "#     \"\"\"Edge of the Knowledge Graph\"\"\"\n",
    "#     source: int = Field(..., description=\"Unique source of the edge\")\n",
    "#     target: int = Field(..., description=\"Unique target of the edge\")\n",
    "#     type: str = Field(..., description=\"Type of the edge\")\n",
    "#     label: str = Field(..., description=\"Label of the edge\")\n",
    "#     property: Optional[str] = Field(\n",
    "#         default=None, description=\"Property of the edge\")"
   ]
  },
  {
   "cell_type": "markdown",
   "id": "1783c943-cdb6-41a7-9537-536f3f1758bf",
   "metadata": {},
   "source": [
    "###"
   ]
  },
  {
   "cell_type": "code",
   "execution_count": 16,
   "id": "3fe34540-cd3f-43cd-aab4-639157e5fd4c",
   "metadata": {
    "execution": {
     "iopub.execute_input": "2024-12-05T10:39:42.951035Z",
     "iopub.status.busy": "2024-12-05T10:39:42.950524Z",
     "iopub.status.idle": "2024-12-05T10:39:42.968568Z",
     "shell.execute_reply": "2024-12-05T10:39:42.967609Z",
     "shell.execute_reply.started": "2024-12-05T10:39:42.950996Z"
    }
   },
   "outputs": [],
   "source": [
    "#| echo: true\n",
    "from typing import List\n",
    "from langchain_core.utils.function_calling import convert_to_openai_tool\n",
    "\n",
    "class KnowledgeGraph(BaseModel):\n",
    "    \"\"\"Generated Knowledge Graph\"\"\"\n",
    "    nodes: List[Node] = Field(\n",
    "        ..., description=\"List of nodes of the knowledge graph\")\n",
    "    edges: List[Edge] = Field(\n",
    "        ..., description=\"List of edges of the knowledge graph\")\n",
    "\n",
    "tools = [convert_to_openai_tool(KnowledgeGraph)]"
   ]
  },
  {
   "cell_type": "markdown",
   "id": "88e36b2f-7084-4c41-83ec-8c5ab7bf6820",
   "metadata": {},
   "source": [
    "###"
   ]
  },
  {
   "cell_type": "code",
   "execution_count": 17,
   "id": "0d5ee96d-d356-4e12-8e9b-f016971fecc9",
   "metadata": {
    "execution": {
     "iopub.execute_input": "2024-12-05T10:39:42.970199Z",
     "iopub.status.busy": "2024-12-05T10:39:42.969665Z",
     "iopub.status.idle": "2024-12-05T10:39:42.981187Z",
     "shell.execute_reply": "2024-12-05T10:39:42.980048Z",
     "shell.execute_reply.started": "2024-12-05T10:39:42.970160Z"
    }
   },
   "outputs": [],
   "source": [
    "#| echo: true\n",
    "#| code-line-numbers: 6-9,14-15|1-18\n",
    "def build_messages(text: str):\n",
    "    messages = [\n",
    "        {\n",
    "            \"role\": \"system\",\n",
    "            \"content\": (\n",
    "                \"You are a world class AI model who answers questions \" \n",
    "                \"in JSON with correct Pydantic schema. \"\n",
    "                \"Here's the json schema you must adhere to:\\n<schema>\\n\"\n",
    "                f\"{KnowledgeGraph.schema_json()}\\n</schema>\"\n",
    "            )\n",
    "        },{\n",
    "            \"role\": \"user\",\n",
    "            \"content\": (\n",
    "                \"Describe the following text as a detailed \" \n",
    "                f\"knowledge graph:\\n{text}\"\n",
    "            )\n",
    "        }]\n",
    "    return messages"
   ]
  },
  {
   "cell_type": "code",
   "execution_count": 18,
   "id": "697cf043-4cd0-48d6-aa2d-71f1a86f73b2",
   "metadata": {
    "execution": {
     "iopub.execute_input": "2024-12-05T10:39:42.983492Z",
     "iopub.status.busy": "2024-12-05T10:39:42.982499Z",
     "iopub.status.idle": "2024-12-05T10:39:43.008752Z",
     "shell.execute_reply": "2024-12-05T10:39:43.007731Z",
     "shell.execute_reply.started": "2024-12-05T10:39:42.983450Z"
    }
   },
   "outputs": [
    {
     "data": {
      "text/plain": [
       "[{'role': 'system',\n",
       "  'content': 'You are a world class AI model who answers questions in JSON with correct Pydantic schema. Here\\'s the json schema you must adhere to:\\n<schema>\\n{\"$defs\": {\"Edge\": {\"description\": \"Edge of the Knowledge Graph\", \"properties\": {\"source\": {\"description\": \"Unique source of the edge\", \"title\": \"Source\", \"type\": \"integer\"}, \"target\": {\"description\": \"Unique target of the edge\", \"title\": \"Target\", \"type\": \"integer\"}, \"type\": {\"description\": \"Type of the edge\", \"title\": \"Type\", \"type\": \"string\"}, \"label\": {\"description\": \"Label of the edge\", \"title\": \"Label\", \"type\": \"string\"}}, \"required\": [\"source\", \"target\", \"type\", \"label\"], \"title\": \"Edge\", \"type\": \"object\"}, \"Node\": {\"description\": \"Node of the Knowledge Graph\", \"properties\": {\"id\": {\"description\": \"Unique identifier of the node starting at zero\", \"title\": \"Id\", \"type\": \"integer\"}, \"type\": {\"description\": \"Type of the node\", \"title\": \"Type\", \"type\": \"string\"}, \"label\": {\"description\": \"Label of the node\", \"title\": \"Label\", \"type\": \"string\"}}, \"required\": [\"id\", \"type\", \"label\"], \"title\": \"Node\", \"type\": \"object\"}}, \"description\": \"Generated Knowledge Graph\", \"properties\": {\"nodes\": {\"description\": \"List of nodes of the knowledge graph\", \"items\": {\"$ref\": \"#/$defs/Node\"}, \"title\": \"Nodes\", \"type\": \"array\"}, \"edges\": {\"description\": \"List of edges of the knowledge graph\", \"items\": {\"$ref\": \"#/$defs/Edge\"}, \"title\": \"Edges\", \"type\": \"array\"}}, \"required\": [\"nodes\", \"edges\"], \"title\": \"KnowledgeGraph\", \"type\": \"object\"}\\n</schema>'},\n",
       " {'role': 'user',\n",
       "  'content': 'Describe the following text as a detailed knowledge graph:\\nAlice loves Bob'}]"
      ]
     },
     "execution_count": 18,
     "metadata": {},
     "output_type": "execute_result"
    }
   ],
   "source": [
    "#| output: false\n",
    "build_messages(\"Alice loves Bob\")"
   ]
  },
  {
   "cell_type": "markdown",
   "id": "437c50d6-5dab-4fde-b396-35277daa3d12",
   "metadata": {},
   "source": [
    "###"
   ]
  },
  {
   "cell_type": "code",
   "execution_count": 19,
   "id": "e3b1585a-da30-4dc4-968f-50faa6b348c0",
   "metadata": {
    "execution": {
     "iopub.execute_input": "2024-12-05T10:39:43.010084Z",
     "iopub.status.busy": "2024-12-05T10:39:43.009685Z",
     "iopub.status.idle": "2024-12-05T10:39:43.015666Z",
     "shell.execute_reply": "2024-12-05T10:39:43.014681Z",
     "shell.execute_reply.started": "2024-12-05T10:39:43.010054Z"
    }
   },
   "outputs": [],
   "source": [
    "#| echo: true\n",
    "#| code-line-numbers: 9-13|1-18\n",
    "def generate_assistant_message(messages):\n",
    "    outlines_logits_processor = outlines.processors.JSONLogitsProcessor(\n",
    "        KnowledgeGraph,\n",
    "        outlines_tokenizer,\n",
    "        whitespace_pattern=r\"[\\n\\t ]*\"\n",
    "    )\n",
    "    output = llm.create_chat_completion(\n",
    "        messages=messages,\n",
    "        tools=tools, # <1>\n",
    "        tool_choice={\"type\": \"function\", \n",
    "                     \"function\": {\"name\": \"KnowledgeGraph\"}},\n",
    "        logits_processor=transformers.LogitsProcessorList( # <2>\n",
    "            [outlines_logits_processor]),\n",
    "        temperature=0,\n",
    "        seed=42,\n",
    "        max_tokens=5000,\n",
    "    )\n",
    "    return output[\"choices\"][0][\"message\"]"
   ]
  },
  {
   "cell_type": "markdown",
   "id": "465ca322-cb5e-4359-8d4c-59e25ffcc3b4",
   "metadata": {},
   "source": [
    "1. Structured Outputs\n",
    "2. Structured Generation"
   ]
  },
  {
   "cell_type": "code",
   "execution_count": 20,
   "id": "14bc539e-6672-43c5-ab5e-e6892783592d",
   "metadata": {
    "execution": {
     "iopub.execute_input": "2024-12-05T10:39:43.017546Z",
     "iopub.status.busy": "2024-12-05T10:39:43.016780Z",
     "iopub.status.idle": "2024-12-05T10:39:47.249918Z",
     "shell.execute_reply": "2024-12-05T10:39:47.249284Z",
     "shell.execute_reply.started": "2024-12-05T10:39:43.017507Z"
    }
   },
   "outputs": [
    {
     "data": {
      "text/plain": [
       "{'role': 'assistant',\n",
       " 'content': None,\n",
       " 'function_call': {'name': 'KnowledgeGraph',\n",
       "  'arguments': '{\"nodes\": [{\"id\": 0, \"type\": \"Person\", \"label\": \"Alice\"}, {\"id\": 1, \"type\": \"Person\", \"label\": \"Bob\"}], \"edges\": [{\"source\": 0, \"target\": 1, \"type\": \"LOVES\", \"label\": \"loves\"}]}'},\n",
       " 'tool_calls': [{'id': 'call__0_KnowledgeGraph_cmpl-b881c9e1-c9ce-4f48-96ad-bd1b58dbf8c4',\n",
       "   'type': 'function',\n",
       "   'function': {'name': 'KnowledgeGraph',\n",
       "    'arguments': '{\"nodes\": [{\"id\": 0, \"type\": \"Person\", \"label\": \"Alice\"}, {\"id\": 1, \"type\": \"Person\", \"label\": \"Bob\"}], \"edges\": [{\"source\": 0, \"target\": 1, \"type\": \"LOVES\", \"label\": \"loves\"}]}'}}]}"
      ]
     },
     "execution_count": 20,
     "metadata": {},
     "output_type": "execute_result"
    }
   ],
   "source": [
    "#| output: false\n",
    "messages = build_messages(\"Alice loves Bob\")\n",
    "generate_assistant_message(messages)"
   ]
  },
  {
   "cell_type": "markdown",
   "id": "01ce33e7-6b17-4cd5-ab60-79fe40da0ff1",
   "metadata": {},
   "source": [
    "##"
   ]
  },
  {
   "cell_type": "code",
   "execution_count": 21,
   "id": "ccca9f8b-59a9-4722-9fd3-b5c74aa1f12a",
   "metadata": {
    "execution": {
     "iopub.execute_input": "2024-12-05T10:39:47.251703Z",
     "iopub.status.busy": "2024-12-05T10:39:47.251540Z",
     "iopub.status.idle": "2024-12-05T10:39:51.017323Z",
     "shell.execute_reply": "2024-12-05T10:39:51.016714Z",
     "shell.execute_reply.started": "2024-12-05T10:39:47.251689Z"
    }
   },
   "outputs": [
    {
     "data": {
      "text/plain": [
       "'{\"nodes\": [{\"id\": 0, \"type\": \"Person\", \"label\": \"Alice\"}, {\"id\": 1, \"type\": \"Person\", \"label\": \"Bob\"}], \"edges\": [{\"source\": 0, \"target\": 1, \"type\": \"LOVES\", \"label\": \"loves\"}]}'"
      ]
     },
     "execution_count": 21,
     "metadata": {},
     "output_type": "execute_result"
    }
   ],
   "source": [
    "#| echo: true\n",
    "def generate_kg(text):\n",
    "    messages = build_messages(text)\n",
    "    assistant_message = generate_assistant_message(messages)\n",
    "    return assistant_message[\"tool_calls\"][0][\"function\"][\"arguments\"]\n",
    "    \n",
    "generate_kg(\"Alice loves Bob\")"
   ]
  },
  {
   "cell_type": "code",
   "execution_count": 22,
   "id": "12545946-1184-4ca7-97e4-8723e40ad7b8",
   "metadata": {
    "execution": {
     "iopub.execute_input": "2024-12-05T10:39:51.018013Z",
     "iopub.status.busy": "2024-12-05T10:39:51.017859Z",
     "iopub.status.idle": "2024-12-05T10:39:54.726145Z",
     "shell.execute_reply": "2024-12-05T10:39:54.725566Z",
     "shell.execute_reply.started": "2024-12-05T10:39:51.018000Z"
    }
   },
   "outputs": [
    {
     "data": {
      "text/plain": [
       "'{\"nodes\": [{\"id\": 0, \"type\": \"Person\", \"label\": \"Alice\"}, {\"id\": 1, \"type\": \"Person\", \"label\": \"Bob\"}], \"edges\": [{\"source\": 0, \"target\": 1, \"type\": \"LOVES\", \"label\": \"loves\"}]}'"
      ]
     },
     "execution_count": 22,
     "metadata": {},
     "output_type": "execute_result"
    }
   ],
   "source": [
    "#| output: false\n",
    "kg = generate_kg(\"Alice loves Bob\")\n",
    "kg"
   ]
  },
  {
   "cell_type": "markdown",
   "id": "d10686ee-699c-42e8-a3dd-dda22c6ccc26",
   "metadata": {},
   "source": [
    "##"
   ]
  },
  {
   "cell_type": "code",
   "execution_count": 23,
   "id": "d337defd-1766-46d8-b68a-d38d777d9274",
   "metadata": {
    "execution": {
     "iopub.execute_input": "2024-12-04T23:04:29.468931Z",
     "iopub.status.busy": "2024-12-04T23:04:29.468777Z",
     "iopub.status.idle": "2024-12-04T23:05:46.995495Z",
     "shell.execute_reply": "2024-12-04T23:05:46.994739Z",
     "shell.execute_reply.started": "2024-12-04T23:04:29.468916Z"
    }
   },
   "outputs": [],
   "source": [
    "#| echo: true\n",
    "import json\n",
    "\n",
    "nodes, edges = [], []\n",
    "for text in texts:\n",
    "    kg = generate_kg(text)\n",
    "    nodes.append(json.loads(kg)[\"nodes\"])\n",
    "    edges.append(json.loads(kg)[\"edges\"])"
   ]
  },
  {
   "cell_type": "markdown",
   "id": "e8559310-a760-4af2-ae58-76324220ae07",
   "metadata": {},
   "source": [
    "### Node and Edge Type Candidates"
   ]
  },
  {
   "cell_type": "code",
   "execution_count": 24,
   "id": "6f39c52a-5659-4540-89ee-16f8d10cddb7",
   "metadata": {
    "execution": {
     "iopub.execute_input": "2024-12-04T23:05:46.996201Z",
     "iopub.status.busy": "2024-12-04T23:05:46.996054Z",
     "iopub.status.idle": "2024-12-04T23:05:47.000778Z",
     "shell.execute_reply": "2024-12-04T23:05:47.000164Z",
     "shell.execute_reply.started": "2024-12-04T23:05:46.996187Z"
    }
   },
   "outputs": [
    {
     "name": "stdout",
     "output_type": "stream",
     "text": [
      "Counter({'PERSON': 11, 'ELEMENT': 2, 'COUNTRY': 2, 'EVENT': 2, 'CHEMIST': 2, 'AWARD': 1, 'OBJECT': 1, 'LOCATION': 1})\n",
      "Counter({'DISCOVERED': 8, 'AWARDED': 3, 'MET': 2, 'OCCURREDIN': 2, 'AWARD': 2, 'COLLABORATION': 2, 'VISITED': 1, 'ORIGIN': 1, 'EVENT': 1, 'RELATEDTO': 1, 'LOCATEDIN': 1, 'MARRIAGE': 1, 'AFFAIR': 1, 'TEACHING': 1, 'COLLABORATED_WITH': 1})\n"
     ]
    }
   ],
   "source": [
    "#| echo: true\n",
    "from collections import Counter\n",
    "\n",
    "print(\n",
    "    Counter([node[\"type\"].upper() for i in range(len(texts)) \n",
    "             for node in nodes[i]])\n",
    ")\n",
    "print(\n",
    "    Counter([edge[\"type\"].upper() for i in range(len(texts)) \n",
    "             for edge in edges[i]])\n",
    ")"
   ]
  },
  {
   "cell_type": "markdown",
   "id": "1d838ced-284e-447b-ae49-af36daaa1b60",
   "metadata": {},
   "source": [
    "### {auto-animate=true}"
   ]
  },
  {
   "cell_type": "code",
   "execution_count": 25,
   "id": "771a9f60-c328-4ed8-8838-ea26b774dd2c",
   "metadata": {
    "execution": {
     "iopub.execute_input": "2024-12-04T23:05:47.001293Z",
     "iopub.status.busy": "2024-12-04T23:05:47.001174Z",
     "iopub.status.idle": "2024-12-04T23:05:47.026694Z",
     "shell.execute_reply": "2024-12-04T23:05:47.025584Z",
     "shell.execute_reply.started": "2024-12-04T23:05:47.001282Z"
    }
   },
   "outputs": [],
   "source": [
    "#| echo: true\n",
    "#| code-line-numbers: \"8,14\"\n",
    "from typing import Literal, Optional\n",
    "from pydantic import BaseModel, Field\n",
    "\n",
    "class Node(BaseModel):\n",
    "    \"\"\"Node of the Knowledge Graph\"\"\"\n",
    "    id: int = Field(\n",
    "        ..., description=\"Unique identifier of the node starting at zero\")\n",
    "    type: str = Field(..., description=\"Type of the node\")\n",
    "    label: str = Field(..., description=\"Label of the node\")\n",
    "\n",
    "class Edge(BaseModel):\n",
    "    \"\"\"Edge of the Knowledge Graph\"\"\"\n",
    "    source: int = Field(..., description=\"Unique source of the edge\")\n",
    "    target: int = Field(..., description=\"Unique target of the edge\")\n",
    "    type: str = Field(..., description=\"Type of the edge\")\n",
    "    label: str = Field(..., description=\"Label of the edge\")"
   ]
  },
  {
   "cell_type": "markdown",
   "id": "a02c42c5-eefb-4f34-a2b7-258ddbbb7143",
   "metadata": {},
   "source": [
    "### {auto-animate=true}"
   ]
  },
  {
   "cell_type": "code",
   "execution_count": 26,
   "id": "c8f7b78e-eee1-4751-be42-a6d1ef1f24d5",
   "metadata": {
    "execution": {
     "iopub.execute_input": "2024-12-04T23:05:47.027907Z",
     "iopub.status.busy": "2024-12-04T23:05:47.027538Z",
     "iopub.status.idle": "2024-12-04T23:05:47.045031Z",
     "shell.execute_reply": "2024-12-04T23:05:47.044074Z",
     "shell.execute_reply.started": "2024-12-04T23:05:47.027881Z"
    }
   },
   "outputs": [],
   "source": [
    "#| echo: true\n",
    "#| code-line-numbers: \"7-9,15-17\"\n",
    "from typing import Literal, Optional\n",
    "from pydantic import BaseModel, Field\n",
    "class Node(BaseModel):\n",
    "    \"\"\"Node of the Knowledge Graph\"\"\"\n",
    "    id: int = Field(\n",
    "        ..., description=\"Unique identifier of the node starting at zero\")\n",
    "    type: Literal[\n",
    "    \"PERSON\", \"AWARD\", \"DISCOVERY\", \"LOCATION\", \"OTHER\"\n",
    "    ] = Field(..., description=\"Type of the node\")\n",
    "    label: str = Field(..., description=\"Label of the node\")\n",
    "class Edge(BaseModel):\n",
    "    \"\"\"Edge of the Knowledge Graph\"\"\"\n",
    "    source: int = Field(..., description=\"Unique source of the edge\")\n",
    "    target: int = Field(..., description=\"Unique target of the edge\")\n",
    "    type: Literal[\n",
    "    \"DISCOVERED\", \"AWARDED\", \"INTERPERSONALRELATIONSHIP\", \"VISITED\", \"OTHER\"\n",
    "    ] = Field(..., description=\"Type of the edge\")\n",
    "    label: str = Field(..., description=\"Label of the edge\")"
   ]
  },
  {
   "cell_type": "code",
   "execution_count": 27,
   "id": "29f435dd-3bcf-42e6-bd40-d80f5e2718c5",
   "metadata": {
    "execution": {
     "iopub.execute_input": "2024-12-04T23:05:47.046478Z",
     "iopub.status.busy": "2024-12-04T23:05:47.046041Z",
     "iopub.status.idle": "2024-12-04T23:05:47.059152Z",
     "shell.execute_reply": "2024-12-04T23:05:47.058203Z",
     "shell.execute_reply.started": "2024-12-04T23:05:47.046443Z"
    }
   },
   "outputs": [],
   "source": [
    "#| echo: false\n",
    "from typing import List\n",
    "\n",
    "class KnowledgeGraph(BaseModel):\n",
    "    \"\"\"Generated Knowledge Graph\"\"\"\n",
    "    nodes: List[Node] = Field(..., description=\"List of nodes of the knowledge graph\")\n",
    "    edges: List[Edge] = Field(..., description=\"List of edges of the knowledge graph\")"
   ]
  },
  {
   "cell_type": "code",
   "execution_count": 28,
   "id": "74c15e45-5948-4a17-95ec-74b18e1867ee",
   "metadata": {
    "execution": {
     "iopub.execute_input": "2024-12-04T23:05:47.060716Z",
     "iopub.status.busy": "2024-12-04T23:05:47.060223Z",
     "iopub.status.idle": "2024-12-04T23:05:47.079143Z",
     "shell.execute_reply": "2024-12-04T23:05:47.078169Z",
     "shell.execute_reply.started": "2024-12-04T23:05:47.060679Z"
    }
   },
   "outputs": [],
   "source": [
    "#| echo: false\n",
    "from langchain_core.utils.function_calling import convert_to_openai_tool\n",
    "\n",
    "tools = [convert_to_openai_tool(KnowledgeGraph)]"
   ]
  },
  {
   "cell_type": "code",
   "execution_count": 29,
   "id": "edd12944-8093-4245-8d68-f96d145fcc5b",
   "metadata": {
    "execution": {
     "iopub.execute_input": "2024-12-04T23:05:47.080710Z",
     "iopub.status.busy": "2024-12-04T23:05:47.080214Z",
     "iopub.status.idle": "2024-12-04T23:06:48.003554Z",
     "shell.execute_reply": "2024-12-04T23:06:48.003081Z",
     "shell.execute_reply.started": "2024-12-04T23:05:47.080672Z"
    }
   },
   "outputs": [],
   "source": [
    "#| echo: false\n",
    "import json\n",
    "\n",
    "nodes, edges = [], []\n",
    "for text in texts:\n",
    "    kg = generate_kg(text)\n",
    "    nodes.append(json.loads(kg)[\"nodes\"])\n",
    "    edges.append(json.loads(kg)[\"edges\"])"
   ]
  },
  {
   "attachments": {},
   "cell_type": "markdown",
   "id": "9e68c34b-319e-4849-8ac2-e20da480d623",
   "metadata": {},
   "source": [
    "###\n",
    "\n",
    "::: {.panel-tabset}\n",
    "\n",
    "## Chunk 1"
   ]
  },
  {
   "cell_type": "code",
   "execution_count": 30,
   "id": "56a9290f-805c-449b-b593-656730088867",
   "metadata": {
    "execution": {
     "iopub.execute_input": "2024-12-04T23:06:48.004245Z",
     "iopub.status.busy": "2024-12-04T23:06:48.004067Z",
     "iopub.status.idle": "2024-12-04T23:06:48.096350Z",
     "shell.execute_reply": "2024-12-04T23:06:48.095483Z",
     "shell.execute_reply.started": "2024-12-04T23:06:48.004229Z"
    }
   },
   "outputs": [
    {
     "name": "stdout",
     "output_type": "stream",
     "text": [
      "When Marie Curie came to the United States for the first time, in May 1921, she had already discovered the elements radium and polonium, coined the term “radio-active” and won the Nobel Prize—twice. But the Polish-born scientist, almost pathologically shy and accustomed to spending most of her time in her Paris laboratory, was stunned by the fanfare that greeted her. In 1898 she indeed identified one of the substances and named it polonium, after her homeland. Five months later, she identified a second element, which the world came to know as radium. Curie described the elements she studied as “radio-active.”\n"
     ]
    },
    {
     "data": {
      "image/svg+xml": [
       "<?xml version=\"1.0\" encoding=\"UTF-8\" standalone=\"no\"?>\n",
       "<!DOCTYPE svg PUBLIC \"-//W3C//DTD SVG 1.1//EN\"\n",
       " \"http://www.w3.org/Graphics/SVG/1.1/DTD/svg11.dtd\">\n",
       "<!-- Generated by graphviz version 2.43.0 (0)\n",
       " -->\n",
       "<!-- Title: %3 Pages: 1 -->\n",
       "<svg width=\"809pt\" height=\"331pt\"\n",
       " viewBox=\"0.00 0.00 808.87 330.66\" xmlns=\"http://www.w3.org/2000/svg\" xmlns:xlink=\"http://www.w3.org/1999/xlink\">\n",
       "<g id=\"graph0\" class=\"graph\" transform=\"scale(1 1) rotate(0) translate(4 326.66)\">\n",
       "<title>%3</title>\n",
       "<polygon fill=\"white\" stroke=\"transparent\" points=\"-4,4 -4,-326.66 804.87,-326.66 804.87,4 -4,4\"/>\n",
       "<!-- 0 -->\n",
       "<g id=\"node1\" class=\"node\">\n",
       "<title>0</title>\n",
       "<ellipse fill=\"none\" stroke=\"black\" cx=\"336.87\" cy=\"-262.61\" rx=\"60.09\" ry=\"60.09\"/>\n",
       "<text text-anchor=\"middle\" x=\"336.87\" y=\"-266.41\" font-family=\"Times,serif\" font-size=\"14.00\">PERSON</text>\n",
       "<text text-anchor=\"middle\" x=\"336.87\" y=\"-251.41\" font-family=\"Times,serif\" font-size=\"14.00\">Marie Curie</text>\n",
       "</g>\n",
       "<!-- 1 -->\n",
       "<g id=\"node2\" class=\"node\">\n",
       "<title>1</title>\n",
       "<ellipse fill=\"none\" stroke=\"black\" cx=\"58.87\" cy=\"-68.28\" rx=\"58.73\" ry=\"58.73\"/>\n",
       "<text text-anchor=\"middle\" x=\"58.87\" y=\"-72.08\" font-family=\"Times,serif\" font-size=\"14.00\">AWARD</text>\n",
       "<text text-anchor=\"middle\" x=\"58.87\" y=\"-57.08\" font-family=\"Times,serif\" font-size=\"14.00\">Nobel Prize</text>\n",
       "</g>\n",
       "<!-- 0&#45;&gt;1 -->\n",
       "<g id=\"edge1\" class=\"edge\">\n",
       "<title>0&#45;&gt;1</title>\n",
       "<path fill=\"none\" stroke=\"black\" d=\"M277.91,-249.21C235.04,-237.91 177.48,-217.81 135.87,-184.57 117.44,-169.85 101.83,-149.51 89.59,-130\"/>\n",
       "<polygon fill=\"black\" stroke=\"black\" points=\"92.56,-128.15 84.38,-121.42 86.58,-131.78 92.56,-128.15\"/>\n",
       "<text text-anchor=\"middle\" x=\"174.37\" y=\"-173.37\" font-family=\"Times,serif\" font-size=\"14.00\">AWARDED</text>\n",
       "<text text-anchor=\"middle\" x=\"174.37\" y=\"-158.37\" font-family=\"Times,serif\" font-size=\"14.00\">won</text>\n",
       "</g>\n",
       "<!-- 2 -->\n",
       "<g id=\"node3\" class=\"node\">\n",
       "<title>2</title>\n",
       "<ellipse fill=\"none\" stroke=\"black\" cx=\"196.87\" cy=\"-68.28\" rx=\"61.44\" ry=\"61.44\"/>\n",
       "<text text-anchor=\"middle\" x=\"196.87\" y=\"-72.08\" font-family=\"Times,serif\" font-size=\"14.00\">DISCOVERY</text>\n",
       "<text text-anchor=\"middle\" x=\"196.87\" y=\"-57.08\" font-family=\"Times,serif\" font-size=\"14.00\">Radium</text>\n",
       "</g>\n",
       "<!-- 0&#45;&gt;2 -->\n",
       "<g id=\"edge2\" class=\"edge\">\n",
       "<title>0&#45;&gt;2</title>\n",
       "<path fill=\"none\" stroke=\"black\" d=\"M284.42,-232.86C265.53,-220.23 245.52,-203.85 231.87,-184.57 222.25,-171 215.24,-154.74 210.13,-138.77\"/>\n",
       "<polygon fill=\"black\" stroke=\"black\" points=\"213.4,-137.48 207.19,-128.89 206.69,-139.47 213.4,-137.48\"/>\n",
       "<text text-anchor=\"middle\" x=\"282.37\" y=\"-173.37\" font-family=\"Times,serif\" font-size=\"14.00\">DISCOVERED</text>\n",
       "<text text-anchor=\"middle\" x=\"282.37\" y=\"-158.37\" font-family=\"Times,serif\" font-size=\"14.00\">discovered</text>\n",
       "</g>\n",
       "<!-- 3 -->\n",
       "<g id=\"node4\" class=\"node\">\n",
       "<title>3</title>\n",
       "<ellipse fill=\"none\" stroke=\"black\" cx=\"336.87\" cy=\"-68.28\" rx=\"61.44\" ry=\"61.44\"/>\n",
       "<text text-anchor=\"middle\" x=\"336.87\" y=\"-72.08\" font-family=\"Times,serif\" font-size=\"14.00\">DISCOVERY</text>\n",
       "<text text-anchor=\"middle\" x=\"336.87\" y=\"-57.08\" font-family=\"Times,serif\" font-size=\"14.00\">Polonium</text>\n",
       "</g>\n",
       "<!-- 0&#45;&gt;3 -->\n",
       "<g id=\"edge3\" class=\"edge\">\n",
       "<title>0&#45;&gt;3</title>\n",
       "<path fill=\"none\" stroke=\"black\" d=\"M336.87,-202.34C336.87,-182.61 336.87,-160.43 336.87,-139.92\"/>\n",
       "<polygon fill=\"black\" stroke=\"black\" points=\"340.37,-139.69 336.87,-129.69 333.37,-139.69 340.37,-139.69\"/>\n",
       "<text text-anchor=\"middle\" x=\"387.37\" y=\"-173.37\" font-family=\"Times,serif\" font-size=\"14.00\">DISCOVERED</text>\n",
       "<text text-anchor=\"middle\" x=\"387.37\" y=\"-158.37\" font-family=\"Times,serif\" font-size=\"14.00\">discovered</text>\n",
       "</g>\n",
       "<!-- 4 -->\n",
       "<g id=\"node5\" class=\"node\">\n",
       "<title>4</title>\n",
       "<ellipse fill=\"none\" stroke=\"black\" cx=\"484.87\" cy=\"-68.28\" rx=\"68.07\" ry=\"68.07\"/>\n",
       "<text text-anchor=\"middle\" x=\"484.87\" y=\"-72.08\" font-family=\"Times,serif\" font-size=\"14.00\">LOCATION</text>\n",
       "<text text-anchor=\"middle\" x=\"484.87\" y=\"-57.08\" font-family=\"Times,serif\" font-size=\"14.00\">United States</text>\n",
       "</g>\n",
       "<!-- 0&#45;&gt;4 -->\n",
       "<g id=\"edge4\" class=\"edge\">\n",
       "<title>0&#45;&gt;4</title>\n",
       "<path fill=\"none\" stroke=\"black\" d=\"M388.96,-232.22C407.7,-219.56 427.68,-203.33 441.87,-184.57 451.01,-172.48 458.39,-158.23 464.27,-143.96\"/>\n",
       "<polygon fill=\"black\" stroke=\"black\" points=\"467.55,-145.18 467.93,-134.59 461.03,-142.63 467.55,-145.18\"/>\n",
       "<text text-anchor=\"middle\" x=\"490.37\" y=\"-173.37\" font-family=\"Times,serif\" font-size=\"14.00\">VISITED</text>\n",
       "<text text-anchor=\"middle\" x=\"490.37\" y=\"-158.37\" font-family=\"Times,serif\" font-size=\"14.00\">visited</text>\n",
       "</g>\n",
       "<!-- 5 -->\n",
       "<g id=\"node6\" class=\"node\">\n",
       "<title>5</title>\n",
       "<ellipse fill=\"none\" stroke=\"black\" cx=\"626.87\" cy=\"-68.28\" rx=\"55.17\" ry=\"55.17\"/>\n",
       "<text text-anchor=\"middle\" x=\"626.87\" y=\"-72.08\" font-family=\"Times,serif\" font-size=\"14.00\">LOCATION</text>\n",
       "<text text-anchor=\"middle\" x=\"626.87\" y=\"-57.08\" font-family=\"Times,serif\" font-size=\"14.00\">Paris</text>\n",
       "</g>\n",
       "<!-- 0&#45;&gt;5 -->\n",
       "<g id=\"edge5\" class=\"edge\">\n",
       "<title>0&#45;&gt;5</title>\n",
       "<path fill=\"none\" stroke=\"black\" d=\"M394.58,-245.57C433.65,-232.95 485.18,-212.76 524.87,-184.57 549.02,-167.41 571.39,-143.48 588.98,-121.88\"/>\n",
       "<polygon fill=\"black\" stroke=\"black\" points=\"591.74,-124.04 595.25,-114.04 586.27,-119.67 591.74,-124.04\"/>\n",
       "<text text-anchor=\"middle\" x=\"678.87\" y=\"-173.37\" font-family=\"Times,serif\" font-size=\"14.00\">INTERPERSONALRELATIONSHIP</text>\n",
       "<text text-anchor=\"middle\" x=\"678.87\" y=\"-158.37\" font-family=\"Times,serif\" font-size=\"14.00\">spent most of her time</text>\n",
       "</g>\n",
       "</g>\n",
       "</svg>\n"
      ],
      "text/plain": [
       "<graphviz.graphs.Digraph at 0x7057e4f8ba70>"
      ]
     },
     "execution_count": 30,
     "metadata": {},
     "output_type": "execute_result"
    }
   ],
   "source": [
    "#| echo: true\n",
    "#| code-fold: true\n",
    "from graphviz import Digraph\n",
    "\n",
    "dot = Digraph()\n",
    "i = 0\n",
    "for node in nodes[i]:\n",
    "    if node['type'] != \"OTHER\":\n",
    "        dot.node(str(node['id']), node['type']+\"\\n\"+node['label'], shape='circle', width='1', height='1')\n",
    "for edge in edges[i]:\n",
    "    if edge[\"type\"] != \"OTHER\": #and nodes[i][edge[\"source\"]][\"type\"]!= \"OTHER\" and nodes[i][edge[\"target\"]][\"type\"]!= \"OTHER\":\n",
    "        dot.edge(str(edge['source']), str(edge['target']), label=edge['type']+\"\\n\"+ edge['label'])\n",
    "print(texts[i])\n",
    "dot"
   ]
  },
  {
   "cell_type": "markdown",
   "id": "5f752b83-a690-46d9-bd01-b85fa0b4f100",
   "metadata": {},
   "source": [
    "## Chunk 2"
   ]
  },
  {
   "cell_type": "code",
   "execution_count": 31,
   "id": "0bd529d2-6210-40e1-88c4-b624674c404a",
   "metadata": {
    "execution": {
     "iopub.execute_input": "2024-12-04T23:06:48.098459Z",
     "iopub.status.busy": "2024-12-04T23:06:48.097393Z",
     "iopub.status.idle": "2024-12-04T23:06:48.170913Z",
     "shell.execute_reply": "2024-12-04T23:06:48.169996Z",
     "shell.execute_reply.started": "2024-12-04T23:06:48.098415Z"
    }
   },
   "outputs": [
    {
     "name": "stdout",
     "output_type": "stream",
     "text": [
      "In 1894, she met Pierre Curie, a 35-year-old physicist at a French technical college who had been studying crystals and magnetism. More than a decade before, he and his brother Jacques had discovered piezoelectricity, the electric charge produced in solid materials under pressure. Pierre was taken by Marie’s uncommon intellect and drive, and he proposed to her. They were married in 1895 in a civil service attended by family and a few friends.\n"
     ]
    },
    {
     "data": {
      "image/svg+xml": [
       "<?xml version=\"1.0\" encoding=\"UTF-8\" standalone=\"no\"?>\n",
       "<!DOCTYPE svg PUBLIC \"-//W3C//DTD SVG 1.1//EN\"\n",
       " \"http://www.w3.org/Graphics/SVG/1.1/DTD/svg11.dtd\">\n",
       "<!-- Generated by graphviz version 2.43.0 (0)\n",
       " -->\n",
       "<!-- Title: %3 Pages: 1 -->\n",
       "<svg width=\"606pt\" height=\"532pt\"\n",
       " viewBox=\"0.00 0.00 605.76 532.05\" xmlns=\"http://www.w3.org/2000/svg\" xmlns:xlink=\"http://www.w3.org/1999/xlink\">\n",
       "<g id=\"graph0\" class=\"graph\" transform=\"scale(1 1) rotate(0) translate(4 528.05)\">\n",
       "<title>%3</title>\n",
       "<polygon fill=\"white\" stroke=\"transparent\" points=\"-4,4 -4,-528.05 601.76,-528.05 601.76,4 -4,4\"/>\n",
       "<!-- 0 -->\n",
       "<g id=\"node1\" class=\"node\">\n",
       "<title>0</title>\n",
       "<ellipse fill=\"none\" stroke=\"black\" cx=\"277.76\" cy=\"-464.01\" rx=\"60.09\" ry=\"60.09\"/>\n",
       "<text text-anchor=\"middle\" x=\"277.76\" y=\"-467.81\" font-family=\"Times,serif\" font-size=\"14.00\">PERSON</text>\n",
       "<text text-anchor=\"middle\" x=\"277.76\" y=\"-452.81\" font-family=\"Times,serif\" font-size=\"14.00\">Marie Curie</text>\n",
       "</g>\n",
       "<!-- 1 -->\n",
       "<g id=\"node2\" class=\"node\">\n",
       "<title>1</title>\n",
       "<ellipse fill=\"none\" stroke=\"black\" cx=\"180.76\" cy=\"-276.74\" rx=\"61.44\" ry=\"61.44\"/>\n",
       "<text text-anchor=\"middle\" x=\"180.76\" y=\"-280.54\" font-family=\"Times,serif\" font-size=\"14.00\">PERSON</text>\n",
       "<text text-anchor=\"middle\" x=\"180.76\" y=\"-265.54\" font-family=\"Times,serif\" font-size=\"14.00\">Pierre Curie</text>\n",
       "</g>\n",
       "<!-- 0&#45;&gt;1 -->\n",
       "<g id=\"edge1\" class=\"edge\">\n",
       "<title>0&#45;&gt;1</title>\n",
       "<path fill=\"none\" stroke=\"black\" d=\"M226.89,-431.94C211.25,-419.67 195.8,-404.12 186.76,-385.96 180.95,-374.28 177.84,-360.99 176.41,-347.82\"/>\n",
       "<polygon fill=\"black\" stroke=\"black\" points=\"179.89,-347.49 175.62,-337.8 172.91,-348.04 179.89,-347.49\"/>\n",
       "<text text-anchor=\"middle\" x=\"225.26\" y=\"-374.76\" font-family=\"Times,serif\" font-size=\"14.00\">AWARDED</text>\n",
       "<text text-anchor=\"middle\" x=\"225.26\" y=\"-359.76\" font-family=\"Times,serif\" font-size=\"14.00\">Met</text>\n",
       "</g>\n",
       "<!-- 2 -->\n",
       "<g id=\"node3\" class=\"node\">\n",
       "<title>2</title>\n",
       "<ellipse fill=\"none\" stroke=\"black\" cx=\"251.76\" cy=\"-74.76\" rx=\"58.73\" ry=\"58.73\"/>\n",
       "<text text-anchor=\"middle\" x=\"251.76\" y=\"-78.56\" font-family=\"Times,serif\" font-size=\"14.00\">AWARD</text>\n",
       "<text text-anchor=\"middle\" x=\"251.76\" y=\"-63.56\" font-family=\"Times,serif\" font-size=\"14.00\">Nobel Prize</text>\n",
       "</g>\n",
       "<!-- 0&#45;&gt;2 -->\n",
       "<g id=\"edge3\" class=\"edge\">\n",
       "<title>0&#45;&gt;2</title>\n",
       "<path fill=\"none\" stroke=\"black\" d=\"M276.39,-403.76C274.68,-344.03 271.03,-249.24 263.76,-167.52 263.07,-159.76 262.21,-151.64 261.27,-143.58\"/>\n",
       "<polygon fill=\"black\" stroke=\"black\" points=\"264.72,-142.95 260.04,-133.44 257.77,-143.79 264.72,-142.95\"/>\n",
       "<text text-anchor=\"middle\" x=\"306.76\" y=\"-280.54\" font-family=\"Times,serif\" font-size=\"14.00\">VISITED</text>\n",
       "<text text-anchor=\"middle\" x=\"306.76\" y=\"-265.54\" font-family=\"Times,serif\" font-size=\"14.00\">Awarded</text>\n",
       "</g>\n",
       "<!-- 4 -->\n",
       "<g id=\"node5\" class=\"node\">\n",
       "<title>4</title>\n",
       "<ellipse fill=\"none\" stroke=\"black\" cx=\"414.76\" cy=\"-276.74\" rx=\"55.17\" ry=\"55.17\"/>\n",
       "<text text-anchor=\"middle\" x=\"414.76\" y=\"-280.54\" font-family=\"Times,serif\" font-size=\"14.00\">LOCATION</text>\n",
       "<text text-anchor=\"middle\" x=\"414.76\" y=\"-265.54\" font-family=\"Times,serif\" font-size=\"14.00\">France</text>\n",
       "</g>\n",
       "<!-- 0&#45;&gt;4 -->\n",
       "<g id=\"edge5\" class=\"edge\">\n",
       "<title>0&#45;&gt;4</title>\n",
       "<path fill=\"none\" stroke=\"black\" d=\"M313.04,-415.3C332.37,-389.16 356.35,-356.73 376.17,-329.92\"/>\n",
       "<polygon fill=\"black\" stroke=\"black\" points=\"379.05,-331.92 382.18,-321.8 373.42,-327.75 379.05,-331.92\"/>\n",
       "<text text-anchor=\"middle\" x=\"475.76\" y=\"-374.76\" font-family=\"Times,serif\" font-size=\"14.00\">INTERPERSONALRELATIONSHIP</text>\n",
       "<text text-anchor=\"middle\" x=\"475.76\" y=\"-359.76\" font-family=\"Times,serif\" font-size=\"14.00\">Lived in</text>\n",
       "</g>\n",
       "<!-- 1&#45;&gt;2 -->\n",
       "<g id=\"edge4\" class=\"edge\">\n",
       "<title>1&#45;&gt;2</title>\n",
       "<path fill=\"none\" stroke=\"black\" d=\"M187.53,-215.82C190.35,-199.84 194.28,-182.78 199.76,-167.52 203.82,-156.21 209.22,-144.67 215,-133.76\"/>\n",
       "<polygon fill=\"black\" stroke=\"black\" points=\"218.19,-135.21 219.92,-124.76 212.05,-131.85 218.19,-135.21\"/>\n",
       "<text text-anchor=\"middle\" x=\"231.76\" y=\"-186.32\" font-family=\"Times,serif\" font-size=\"14.00\">VISITED</text>\n",
       "<text text-anchor=\"middle\" x=\"231.76\" y=\"-171.32\" font-family=\"Times,serif\" font-size=\"14.00\">Awarded</text>\n",
       "</g>\n",
       "<!-- 3 -->\n",
       "<g id=\"node4\" class=\"node\">\n",
       "<title>3</title>\n",
       "<ellipse fill=\"none\" stroke=\"black\" cx=\"74.76\" cy=\"-74.76\" rx=\"74.52\" ry=\"74.52\"/>\n",
       "<text text-anchor=\"middle\" x=\"74.76\" y=\"-78.56\" font-family=\"Times,serif\" font-size=\"14.00\">DISCOVERY</text>\n",
       "<text text-anchor=\"middle\" x=\"74.76\" y=\"-63.56\" font-family=\"Times,serif\" font-size=\"14.00\">Piezoelectricity</text>\n",
       "</g>\n",
       "<!-- 1&#45;&gt;3 -->\n",
       "<g id=\"edge2\" class=\"edge\">\n",
       "<title>1&#45;&gt;3</title>\n",
       "<path fill=\"none\" stroke=\"black\" d=\"M128.68,-244.14C112.57,-231.67 96.51,-215.9 86.76,-197.52 80.62,-185.93 76.74,-172.85 74.39,-159.66\"/>\n",
       "<polygon fill=\"black\" stroke=\"black\" points=\"77.82,-158.96 72.88,-149.59 70.9,-159.99 77.82,-158.96\"/>\n",
       "<text text-anchor=\"middle\" x=\"137.26\" y=\"-186.32\" font-family=\"Times,serif\" font-size=\"14.00\">DISCOVERED</text>\n",
       "<text text-anchor=\"middle\" x=\"137.26\" y=\"-171.32\" font-family=\"Times,serif\" font-size=\"14.00\">Studied</text>\n",
       "</g>\n",
       "</g>\n",
       "</svg>\n"
      ],
      "text/plain": [
       "<graphviz.graphs.Digraph at 0x7057e4f2b050>"
      ]
     },
     "execution_count": 31,
     "metadata": {},
     "output_type": "execute_result"
    }
   ],
   "source": [
    "#| echo: true\n",
    "#| code-fold: true\n",
    "from graphviz import Digraph\n",
    "\n",
    "dot = Digraph()\n",
    "i = 1\n",
    "for node in nodes[i]:\n",
    "    if node['type'] != \"OTHER\":\n",
    "        dot.node(str(node['id']), node['type']+\"\\n\"+node['label'], shape='circle', width='1', height='1')\n",
    "for edge in edges[i]:\n",
    "    if edge[\"type\"] != \"OTHER\": #and nodes[i][edge[\"source\"]][\"type\"]!= \"OTHER\" and nodes[i][edge[\"target\"]][\"type\"]!= \"OTHER\":\n",
    "        dot.edge(str(edge['source']), str(edge['target']), label=edge['type']+\"\\n\"+ edge['label'])\n",
    "print(texts[i])\n",
    "dot"
   ]
  },
  {
   "cell_type": "markdown",
   "id": "1526386e-80c2-497b-835d-eb6b3645b592",
   "metadata": {},
   "source": [
    "## Chunk 3"
   ]
  },
  {
   "cell_type": "code",
   "execution_count": 32,
   "id": "354c07da-f0d6-42b3-89c1-44173d4c4347",
   "metadata": {
    "execution": {
     "iopub.execute_input": "2024-12-04T23:06:48.172459Z",
     "iopub.status.busy": "2024-12-04T23:06:48.171993Z",
     "iopub.status.idle": "2024-12-04T23:06:48.242863Z",
     "shell.execute_reply": "2024-12-04T23:06:48.241694Z",
     "shell.execute_reply.started": "2024-12-04T23:06:48.172425Z"
    }
   },
   "outputs": [
    {
     "name": "stdout",
     "output_type": "stream",
     "text": [
      "Both Curies shared the Nobel Prize in physics with Becquerel in 1903. It was the first Nobel to be awarded to a woman. In 1911, rumors spread that Curie was having an affair with the prominent physicist Paul Langevin, a man five years her junior who had been Pierre’s student and had worked closely with Albert Einstein. The front-page coverage of the scandal threatened to overshadow another news story later that year: her second Nobel Prize.\n"
     ]
    },
    {
     "data": {
      "image/svg+xml": [
       "<?xml version=\"1.0\" encoding=\"UTF-8\" standalone=\"no\"?>\n",
       "<!DOCTYPE svg PUBLIC \"-//W3C//DTD SVG 1.1//EN\"\n",
       " \"http://www.w3.org/Graphics/SVG/1.1/DTD/svg11.dtd\">\n",
       "<!-- Generated by graphviz version 2.43.0 (0)\n",
       " -->\n",
       "<!-- Title: %3 Pages: 1 -->\n",
       "<svg width=\"828pt\" height=\"616pt\"\n",
       " viewBox=\"0.00 0.00 827.75 615.64\" xmlns=\"http://www.w3.org/2000/svg\" xmlns:xlink=\"http://www.w3.org/1999/xlink\">\n",
       "<g id=\"graph0\" class=\"graph\" transform=\"scale(1 1) rotate(0) translate(4 611.64)\">\n",
       "<title>%3</title>\n",
       "<polygon fill=\"white\" stroke=\"transparent\" points=\"-4,4 -4,-611.64 823.75,-611.64 823.75,4 -4,4\"/>\n",
       "<!-- 0 -->\n",
       "<g id=\"node1\" class=\"node\">\n",
       "<title>0</title>\n",
       "<ellipse fill=\"none\" stroke=\"black\" cx=\"411.87\" cy=\"-528.76\" rx=\"60.09\" ry=\"60.09\"/>\n",
       "<text text-anchor=\"middle\" x=\"411.87\" y=\"-532.56\" font-family=\"Times,serif\" font-size=\"14.00\">PERSON</text>\n",
       "<text text-anchor=\"middle\" x=\"411.87\" y=\"-517.56\" font-family=\"Times,serif\" font-size=\"14.00\">Marie Curie</text>\n",
       "</g>\n",
       "<!-- 4 -->\n",
       "<g id=\"node5\" class=\"node\">\n",
       "<title>4</title>\n",
       "<ellipse fill=\"none\" stroke=\"black\" cx=\"595.87\" cy=\"-280.27\" rx=\"103.71\" ry=\"103.71\"/>\n",
       "<text text-anchor=\"middle\" x=\"595.87\" y=\"-284.07\" font-family=\"Times,serif\" font-size=\"14.00\">AWARD</text>\n",
       "<text text-anchor=\"middle\" x=\"595.87\" y=\"-269.07\" font-family=\"Times,serif\" font-size=\"14.00\">Nobel Prize in Physics</text>\n",
       "</g>\n",
       "<!-- 0&#45;&gt;4 -->\n",
       "<g id=\"edge1\" class=\"edge\">\n",
       "<title>0&#45;&gt;4</title>\n",
       "<path fill=\"none\" stroke=\"black\" d=\"M447.35,-480.23C470.17,-449.67 500.55,-408.96 527.9,-372.33\"/>\n",
       "<polygon fill=\"black\" stroke=\"black\" points=\"530.87,-374.21 534.04,-364.1 525.26,-370.02 530.87,-374.21\"/>\n",
       "<text text-anchor=\"middle\" x=\"542.37\" y=\"-420.68\" font-family=\"Times,serif\" font-size=\"14.00\">AWARDED</text>\n",
       "<text text-anchor=\"middle\" x=\"542.37\" y=\"-405.68\" font-family=\"Times,serif\" font-size=\"14.00\">awarded</text>\n",
       "</g>\n",
       "<!-- 5 -->\n",
       "<g id=\"node6\" class=\"node\">\n",
       "<title>5</title>\n",
       "<ellipse fill=\"none\" stroke=\"black\" cx=\"427.87\" cy=\"-55.33\" rx=\"55.17\" ry=\"55.17\"/>\n",
       "<text text-anchor=\"middle\" x=\"427.87\" y=\"-59.13\" font-family=\"Times,serif\" font-size=\"14.00\">LOCATION</text>\n",
       "<text text-anchor=\"middle\" x=\"427.87\" y=\"-44.13\" font-family=\"Times,serif\" font-size=\"14.00\">1903</text>\n",
       "</g>\n",
       "<!-- 0&#45;&gt;5 -->\n",
       "<g id=\"edge4\" class=\"edge\">\n",
       "<title>0&#45;&gt;5</title>\n",
       "<path fill=\"none\" stroke=\"black\" d=\"M412.81,-468.41C414.04,-398.59 416.58,-279.17 420.87,-176.67 421.63,-158.58 422.68,-138.98 423.73,-120.95\"/>\n",
       "<polygon fill=\"black\" stroke=\"black\" points=\"427.23,-121.02 424.33,-110.83 420.24,-120.6 427.23,-121.02\"/>\n",
       "<text text-anchor=\"middle\" x=\"451.87\" y=\"-284.07\" font-family=\"Times,serif\" font-size=\"14.00\">VISITED</text>\n",
       "<text text-anchor=\"middle\" x=\"451.87\" y=\"-269.07\" font-family=\"Times,serif\" font-size=\"14.00\">awarded</text>\n",
       "</g>\n",
       "<!-- 6 -->\n",
       "<g id=\"node7\" class=\"node\">\n",
       "<title>6</title>\n",
       "<ellipse fill=\"none\" stroke=\"black\" cx=\"194.87\" cy=\"-280.27\" rx=\"55.17\" ry=\"55.17\"/>\n",
       "<text text-anchor=\"middle\" x=\"194.87\" y=\"-284.07\" font-family=\"Times,serif\" font-size=\"14.00\">LOCATION</text>\n",
       "<text text-anchor=\"middle\" x=\"194.87\" y=\"-269.07\" font-family=\"Times,serif\" font-size=\"14.00\">1911</text>\n",
       "</g>\n",
       "<!-- 0&#45;&gt;6 -->\n",
       "<g id=\"edge6\" class=\"edge\">\n",
       "<title>0&#45;&gt;6</title>\n",
       "<path fill=\"none\" stroke=\"black\" d=\"M375.16,-481.01C362.95,-465.41 349.3,-447.92 336.87,-431.88 326.59,-418.59 324.91,-414.55 313.87,-401.88 291.31,-375.97 264.57,-348.6 242.15,-326.49\"/>\n",
       "<polygon fill=\"black\" stroke=\"black\" points=\"244.32,-323.71 234.73,-319.2 239.42,-328.71 244.32,-323.71\"/>\n",
       "<text text-anchor=\"middle\" x=\"367.37\" y=\"-420.68\" font-family=\"Times,serif\" font-size=\"14.00\">VISITED</text>\n",
       "<text text-anchor=\"middle\" x=\"367.37\" y=\"-405.68\" font-family=\"Times,serif\" font-size=\"14.00\">scandal</text>\n",
       "</g>\n",
       "<!-- 1 -->\n",
       "<g id=\"node2\" class=\"node\">\n",
       "<title>1</title>\n",
       "<ellipse fill=\"none\" stroke=\"black\" cx=\"582.87\" cy=\"-528.76\" rx=\"61.44\" ry=\"61.44\"/>\n",
       "<text text-anchor=\"middle\" x=\"582.87\" y=\"-532.56\" font-family=\"Times,serif\" font-size=\"14.00\">PERSON</text>\n",
       "<text text-anchor=\"middle\" x=\"582.87\" y=\"-517.56\" font-family=\"Times,serif\" font-size=\"14.00\">Pierre Curie</text>\n",
       "</g>\n",
       "<!-- 1&#45;&gt;4 -->\n",
       "<g id=\"edge2\" class=\"edge\">\n",
       "<title>1&#45;&gt;4</title>\n",
       "<path fill=\"none\" stroke=\"black\" d=\"M586.05,-467.46C587.22,-445.32 588.59,-419.47 589.92,-394.2\"/>\n",
       "<polygon fill=\"black\" stroke=\"black\" points=\"593.41,-394.35 590.45,-384.18 586.42,-393.98 593.41,-394.35\"/>\n",
       "<text text-anchor=\"middle\" x=\"627.37\" y=\"-420.68\" font-family=\"Times,serif\" font-size=\"14.00\">AWARDED</text>\n",
       "<text text-anchor=\"middle\" x=\"627.37\" y=\"-405.68\" font-family=\"Times,serif\" font-size=\"14.00\">awarded</text>\n",
       "</g>\n",
       "<!-- 2 -->\n",
       "<g id=\"node3\" class=\"node\">\n",
       "<title>2</title>\n",
       "<ellipse fill=\"none\" stroke=\"black\" cx=\"740.87\" cy=\"-528.76\" rx=\"78.76\" ry=\"78.76\"/>\n",
       "<text text-anchor=\"middle\" x=\"740.87\" y=\"-532.56\" font-family=\"Times,serif\" font-size=\"14.00\">PERSON</text>\n",
       "<text text-anchor=\"middle\" x=\"740.87\" y=\"-517.56\" font-family=\"Times,serif\" font-size=\"14.00\">Henri Becquerel</text>\n",
       "</g>\n",
       "<!-- 2&#45;&gt;4 -->\n",
       "<g id=\"edge3\" class=\"edge\">\n",
       "<title>2&#45;&gt;4</title>\n",
       "<path fill=\"none\" stroke=\"black\" d=\"M703.01,-459.55C692.42,-440.78 680.82,-420.47 669.87,-401.88 665.16,-393.86 660.22,-385.58 655.22,-377.29\"/>\n",
       "<polygon fill=\"black\" stroke=\"black\" points=\"658.17,-375.4 650.01,-368.65 652.18,-379.02 658.17,-375.4\"/>\n",
       "<text text-anchor=\"middle\" x=\"723.37\" y=\"-420.68\" font-family=\"Times,serif\" font-size=\"14.00\">AWARDED</text>\n",
       "<text text-anchor=\"middle\" x=\"723.37\" y=\"-405.68\" font-family=\"Times,serif\" font-size=\"14.00\">awarded</text>\n",
       "</g>\n",
       "<!-- 3 -->\n",
       "<g id=\"node4\" class=\"node\">\n",
       "<title>3</title>\n",
       "<ellipse fill=\"none\" stroke=\"black\" cx=\"68.87\" cy=\"-528.76\" rx=\"68.75\" ry=\"68.75\"/>\n",
       "<text text-anchor=\"middle\" x=\"68.87\" y=\"-532.56\" font-family=\"Times,serif\" font-size=\"14.00\">PERSON</text>\n",
       "<text text-anchor=\"middle\" x=\"68.87\" y=\"-517.56\" font-family=\"Times,serif\" font-size=\"14.00\">Paul Langevin</text>\n",
       "</g>\n",
       "<!-- 3&#45;&gt;6 -->\n",
       "<g id=\"edge7\" class=\"edge\">\n",
       "<title>3&#45;&gt;6</title>\n",
       "<path fill=\"none\" stroke=\"black\" d=\"M59.8,-460.41C59.68,-440.88 62.11,-419.95 69.87,-401.88 84.54,-367.73 114.06,-338.5 140.73,-317.38\"/>\n",
       "<polygon fill=\"black\" stroke=\"black\" points=\"143.11,-319.97 148.89,-311.09 138.84,-314.42 143.11,-319.97\"/>\n",
       "<text text-anchor=\"middle\" x=\"191.87\" y=\"-420.68\" font-family=\"Times,serif\" font-size=\"14.00\">INTERPERSONALRELATIONSHIP</text>\n",
       "<text text-anchor=\"middle\" x=\"191.87\" y=\"-405.68\" font-family=\"Times,serif\" font-size=\"14.00\">affair</text>\n",
       "</g>\n",
       "<!-- 4&#45;&gt;5 -->\n",
       "<g id=\"edge5\" class=\"edge\">\n",
       "<title>4&#45;&gt;5</title>\n",
       "<path fill=\"none\" stroke=\"black\" d=\"M533.79,-196.89C511.44,-167.23 486.87,-134.62 467.02,-108.28\"/>\n",
       "<polygon fill=\"black\" stroke=\"black\" points=\"469.56,-105.84 460.75,-99.96 463.97,-110.05 469.56,-105.84\"/>\n",
       "<text text-anchor=\"middle\" x=\"636.87\" y=\"-147.47\" font-family=\"Times,serif\" font-size=\"14.00\">DISCOVERED</text>\n",
       "<text text-anchor=\"middle\" x=\"636.87\" y=\"-132.47\" font-family=\"Times,serif\" font-size=\"14.00\">first Nobel to be awarded to a woman</text>\n",
       "</g>\n",
       "</g>\n",
       "</svg>\n"
      ],
      "text/plain": [
       "<graphviz.graphs.Digraph at 0x7057e50f3c50>"
      ]
     },
     "execution_count": 32,
     "metadata": {},
     "output_type": "execute_result"
    }
   ],
   "source": [
    "#| echo: true\n",
    "#| code-fold: true\n",
    "from graphviz import Digraph\n",
    "\n",
    "dot = Digraph()\n",
    "i = 2\n",
    "for node in nodes[i]:\n",
    "    if node['type'] != \"OTHER\":\n",
    "        dot.node(str(node['id']), node['type']+\"\\n\"+node['label'], shape='circle', width='1', height='1')\n",
    "for edge in edges[i]:\n",
    "    if edge[\"type\"] != \"OTHER\": #and nodes[i][edge[\"source\"]][\"type\"]!= \"OTHER\" and nodes[i][edge[\"target\"]][\"type\"]!= \"OTHER\":\n",
    "        dot.edge(str(edge['source']), str(edge['target']), label=edge['type']+\"\\n\"+ edge['label'])\n",
    "print(texts[i])\n",
    "dot"
   ]
  },
  {
   "cell_type": "markdown",
   "id": "abc6ed96-5cc5-4c62-aaf3-e7771aca4082",
   "metadata": {},
   "source": [
    "## Chunk 4"
   ]
  },
  {
   "cell_type": "code",
   "execution_count": 33,
   "id": "798bd635-5b55-4a29-a296-7d16fb7b4a37",
   "metadata": {
    "execution": {
     "iopub.execute_input": "2024-12-04T23:06:48.244724Z",
     "iopub.status.busy": "2024-12-04T23:06:48.244169Z",
     "iopub.status.idle": "2024-12-04T23:06:48.324590Z",
     "shell.execute_reply": "2024-12-04T23:06:48.323434Z",
     "shell.execute_reply.started": "2024-12-04T23:06:48.244683Z"
    }
   },
   "outputs": [
    {
     "name": "stdout",
     "output_type": "stream",
     "text": [
      "This one, in chemistry, was for the discovery of polonium and radium. In her acceptance speech in Stockholm, she paid tribute to her husband but also made clear that her work was independent from his, spelling out their separate contributions and describing the discoveries she had made after his death.\n",
      "\n"
     ]
    },
    {
     "data": {
      "image/svg+xml": [
       "<?xml version=\"1.0\" encoding=\"UTF-8\" standalone=\"no\"?>\n",
       "<!DOCTYPE svg PUBLIC \"-//W3C//DTD SVG 1.1//EN\"\n",
       " \"http://www.w3.org/Graphics/SVG/1.1/DTD/svg11.dtd\">\n",
       "<!-- Generated by graphviz version 2.43.0 (0)\n",
       " -->\n",
       "<!-- Title: %3 Pages: 1 -->\n",
       "<svg width=\"617pt\" height=\"786pt\"\n",
       " viewBox=\"0.00 0.00 617.04 786.35\" xmlns=\"http://www.w3.org/2000/svg\" xmlns:xlink=\"http://www.w3.org/1999/xlink\">\n",
       "<g id=\"graph0\" class=\"graph\" transform=\"scale(1 1) rotate(0) translate(4 782.35)\">\n",
       "<title>%3</title>\n",
       "<polygon fill=\"white\" stroke=\"transparent\" points=\"-4,4 -4,-782.35 613.04,-782.35 613.04,4 -4,4\"/>\n",
       "<!-- 0 -->\n",
       "<g id=\"node1\" class=\"node\">\n",
       "<title>0</title>\n",
       "<ellipse fill=\"none\" stroke=\"black\" cx=\"198.04\" cy=\"-632.36\" rx=\"145.98\" ry=\"145.98\"/>\n",
       "<text text-anchor=\"middle\" x=\"198.04\" y=\"-636.16\" font-family=\"Times,serif\" font-size=\"14.00\">DISCOVERY</text>\n",
       "<text text-anchor=\"middle\" x=\"198.04\" y=\"-621.16\" font-family=\"Times,serif\" font-size=\"14.00\">Polonium and Radium Discovery</text>\n",
       "</g>\n",
       "<!-- 1 -->\n",
       "<g id=\"node2\" class=\"node\">\n",
       "<title>1</title>\n",
       "<ellipse fill=\"none\" stroke=\"black\" cx=\"60.04\" cy=\"-359.15\" rx=\"60.09\" ry=\"60.09\"/>\n",
       "<text text-anchor=\"middle\" x=\"60.04\" y=\"-362.95\" font-family=\"Times,serif\" font-size=\"14.00\">PERSON</text>\n",
       "<text text-anchor=\"middle\" x=\"60.04\" y=\"-347.95\" font-family=\"Times,serif\" font-size=\"14.00\">Marie Curie</text>\n",
       "</g>\n",
       "<!-- 0&#45;&gt;1 -->\n",
       "<g id=\"edge1\" class=\"edge\">\n",
       "<title>0&#45;&gt;1</title>\n",
       "<path fill=\"none\" stroke=\"black\" d=\"M104.67,-519.85C94.05,-503.32 84.41,-485.92 77.04,-468.38 71.91,-456.15 68.32,-442.55 65.8,-429.24\"/>\n",
       "<polygon fill=\"black\" stroke=\"black\" points=\"69.21,-428.41 64.08,-419.14 62.31,-429.59 69.21,-428.41\"/>\n",
       "<text text-anchor=\"middle\" x=\"134.54\" y=\"-457.18\" font-family=\"Times,serif\" font-size=\"14.00\">DISCOVERED</text>\n",
       "<text text-anchor=\"middle\" x=\"134.54\" y=\"-442.18\" font-family=\"Times,serif\" font-size=\"14.00\">Made Discovery</text>\n",
       "</g>\n",
       "<!-- 2 -->\n",
       "<g id=\"node3\" class=\"node\">\n",
       "<title>2</title>\n",
       "<ellipse fill=\"none\" stroke=\"black\" cx=\"217.04\" cy=\"-359.15\" rx=\"61.44\" ry=\"61.44\"/>\n",
       "<text text-anchor=\"middle\" x=\"217.04\" y=\"-362.95\" font-family=\"Times,serif\" font-size=\"14.00\">PERSON</text>\n",
       "<text text-anchor=\"middle\" x=\"217.04\" y=\"-347.95\" font-family=\"Times,serif\" font-size=\"14.00\">Pierre Curie</text>\n",
       "</g>\n",
       "<!-- 0&#45;&gt;2 -->\n",
       "<g id=\"edge2\" class=\"edge\">\n",
       "<title>0&#45;&gt;2</title>\n",
       "<path fill=\"none\" stroke=\"black\" d=\"M195.34,-486.26C196.07,-470.07 197.25,-453.85 199.04,-438.38 199.4,-435.29 199.83,-432.15 200.33,-428.99\"/>\n",
       "<polygon fill=\"black\" stroke=\"black\" points=\"203.82,-429.3 202.07,-418.85 196.92,-428.11 203.82,-429.3\"/>\n",
       "<text text-anchor=\"middle\" x=\"321.04\" y=\"-457.18\" font-family=\"Times,serif\" font-size=\"14.00\">INTERPERSONALRELATIONSHIP</text>\n",
       "<text text-anchor=\"middle\" x=\"321.04\" y=\"-442.18\" font-family=\"Times,serif\" font-size=\"14.00\">Married to</text>\n",
       "</g>\n",
       "<!-- 3 -->\n",
       "<g id=\"node4\" class=\"node\">\n",
       "<title>3</title>\n",
       "<ellipse fill=\"none\" stroke=\"black\" cx=\"234.04\" cy=\"-115.97\" rx=\"115.93\" ry=\"115.93\"/>\n",
       "<text text-anchor=\"middle\" x=\"234.04\" y=\"-119.77\" font-family=\"Times,serif\" font-size=\"14.00\">AWARD</text>\n",
       "<text text-anchor=\"middle\" x=\"234.04\" y=\"-104.77\" font-family=\"Times,serif\" font-size=\"14.00\">Nobel Prize in Chemistry</text>\n",
       "</g>\n",
       "<!-- 0&#45;&gt;3 -->\n",
       "<g id=\"edge3\" class=\"edge\">\n",
       "<title>0&#45;&gt;3</title>\n",
       "<path fill=\"none\" stroke=\"black\" d=\"M332.25,-574.29C375.61,-548.65 418.73,-513.74 443.04,-468.38 494.42,-372.5 409.4,-265.49 332.87,-195.03\"/>\n",
       "<polygon fill=\"black\" stroke=\"black\" points=\"334.78,-192.04 325.02,-187.9 330.07,-197.22 334.78,-192.04\"/>\n",
       "<text text-anchor=\"middle\" x=\"533.54\" y=\"-362.95\" font-family=\"Times,serif\" font-size=\"14.00\">AWARDED</text>\n",
       "<text text-anchor=\"middle\" x=\"533.54\" y=\"-347.95\" font-family=\"Times,serif\" font-size=\"14.00\">Awarded Nobel Prize</text>\n",
       "</g>\n",
       "<!-- 1&#45;&gt;3 -->\n",
       "<g id=\"edge4\" class=\"edge\">\n",
       "<title>1&#45;&gt;3</title>\n",
       "<path fill=\"none\" stroke=\"black\" d=\"M55.19,-299.04C56.07,-282.39 59.28,-264.78 67.04,-249.93 80.92,-223.37 102.69,-200.33 125.99,-181.22\"/>\n",
       "<polygon fill=\"black\" stroke=\"black\" points=\"128.29,-183.86 133.94,-174.9 123.93,-178.38 128.29,-183.86\"/>\n",
       "<text text-anchor=\"middle\" x=\"142.54\" y=\"-268.73\" font-family=\"Times,serif\" font-size=\"14.00\">AWARDED</text>\n",
       "<text text-anchor=\"middle\" x=\"142.54\" y=\"-253.73\" font-family=\"Times,serif\" font-size=\"14.00\">Awarded Nobel Prize</text>\n",
       "</g>\n",
       "<!-- 2&#45;&gt;3 -->\n",
       "<g id=\"edge5\" class=\"edge\">\n",
       "<title>2&#45;&gt;3</title>\n",
       "<path fill=\"none\" stroke=\"black\" d=\"M221.29,-297.91C222.5,-280.8 223.86,-261.51 225.23,-242.06\"/>\n",
       "<polygon fill=\"black\" stroke=\"black\" points=\"228.73,-242.11 225.94,-231.89 221.75,-241.62 228.73,-242.11\"/>\n",
       "<text text-anchor=\"middle\" x=\"299.54\" y=\"-268.73\" font-family=\"Times,serif\" font-size=\"14.00\">AWARDED</text>\n",
       "<text text-anchor=\"middle\" x=\"299.54\" y=\"-253.73\" font-family=\"Times,serif\" font-size=\"14.00\">Awarded Nobel Prize</text>\n",
       "</g>\n",
       "</g>\n",
       "</svg>\n"
      ],
      "text/plain": [
       "<graphviz.graphs.Digraph at 0x7057e50f3140>"
      ]
     },
     "execution_count": 33,
     "metadata": {},
     "output_type": "execute_result"
    }
   ],
   "source": [
    "#| echo: true\n",
    "#| code-fold: true\n",
    "from graphviz import Digraph\n",
    "\n",
    "dot = Digraph()\n",
    "i = 3\n",
    "for node in nodes[i]:\n",
    "    if node['type'] != \"OTHER\":\n",
    "        dot.node(str(node['id']), node['type']+\"\\n\"+node['label'], shape='circle', width='1', height='1')\n",
    "for edge in edges[i]:\n",
    "    if edge[\"type\"] != \"OTHER\":\n",
    "        dot.edge(str(edge['source']), str(edge['target']), label=edge['type']+\"\\n\"+ edge['label'])\n",
    "print(texts[i])\n",
    "dot"
   ]
  },
  {
   "cell_type": "markdown",
   "id": "049d30f7-00c3-4061-b8db-4cc379ff215b",
   "metadata": {},
   "source": [
    ":::"
   ]
  },
  {
   "cell_type": "markdown",
   "id": "a678cca6-9af8-4fbf-920d-dbcb424023d0",
   "metadata": {},
   "source": [
    "###"
   ]
  },
  {
   "cell_type": "code",
   "execution_count": 34,
   "id": "a2a77d56-bcd5-433c-81a6-c6e6fa4f2b0f",
   "metadata": {
    "execution": {
     "iopub.execute_input": "2024-12-04T23:06:48.326578Z",
     "iopub.status.busy": "2024-12-04T23:06:48.325988Z",
     "iopub.status.idle": "2024-12-04T23:06:48.348084Z",
     "shell.execute_reply": "2024-12-04T23:06:48.347231Z",
     "shell.execute_reply.started": "2024-12-04T23:06:48.326534Z"
    }
   },
   "outputs": [],
   "source": [
    "#| echo: true\n",
    "import pandas as pd\n",
    "\n",
    "df_nodes = pd.DataFrame(nodes[0])\n",
    "df_edges = pd.DataFrame({\n",
    "    'source': [nodes[0][edge['source']]['label'] for edge in edges[0]],\n",
    "    'target': [nodes[0][edge['target']]['label'] for edge in edges[0]],\n",
    "    'type': [edge['type'] for edge in edges[0]],\n",
    "    'label': [edge['label'] for edge in edges[0]]\n",
    "})\n",
    "for i in range(1,len(texts)):\n",
    "    df_nodes_aux = pd.DataFrame({\n",
    "        'id': [node['id']+len(df_nodes) for node in nodes[i]],\n",
    "        'label': [node['label'] for node in nodes[i]],\n",
    "        'type': [node['type'] for node in nodes[i]]\n",
    "    })\n",
    "    df_edges_aux = pd.DataFrame({\n",
    "        'source': [nodes[i][edge['source']]['label'] for edge in edges[i]],\n",
    "        'target': [nodes[i][edge['target']]['label'] for edge in edges[i]],\n",
    "        'type': [edge['type'] for edge in edges[i]],\n",
    "        'label': [edge['label'] for edge in edges[i]]\n",
    "    })\n",
    "    df_nodes = pd.concat([df_nodes, df_nodes_aux])\n",
    "    df_edges = pd.concat([df_edges, df_edges_aux])\n",
    "\n",
    "df_nodes=df_nodes[df_nodes[\"type\"]!=\"OTHER\"].drop_duplicates(subset=\"label\")\n",
    "df_edges=df_edges[df_edges[\"type\"]!=\"OTHER\"]"
   ]
  },
  {
   "cell_type": "markdown",
   "id": "30b9befb-89c6-4dbf-9d88-33bad7e76918",
   "metadata": {},
   "source": [
    "### Insert nodes to the graph db"
   ]
  },
  {
   "cell_type": "code",
   "execution_count": 37,
   "id": "2088d633-7138-4d24-9f78-7226102630a4",
   "metadata": {
    "execution": {
     "iopub.execute_input": "2024-12-04T23:06:48.389002Z",
     "iopub.status.busy": "2024-12-04T23:06:48.388426Z",
     "iopub.status.idle": "2024-12-04T23:06:48.656978Z",
     "shell.execute_reply": "2024-12-04T23:06:48.655831Z",
     "shell.execute_reply.started": "2024-12-04T23:06:48.388960Z"
    }
   },
   "outputs": [],
   "source": [
    "#| echo: true\n",
    "import kuzu\n",
    "\n",
    "db = kuzu.Database()\n",
    "conn = kuzu.Connection(db)\n",
    "# create schema\n",
    "conn.execute(\"CREATE NODE TABLE Person(name STRING, PRIMARY KEY (name))\");\n",
    "conn.execute(\"CREATE NODE TABLE Award(name STRING, PRIMARY KEY (name))\");\n",
    "conn.execute(\"CREATE NODE TABLE Discovery(name STRING, PRIMARY KEY (name))\");\n",
    "conn.execute(\"CREATE NODE TABLE Location(name STRING, PRIMARY KEY (name))\");\n",
    "# copy from dataframes\n",
    "df_nodes_person = df_nodes[df_nodes[\"type\"] == \"PERSON\"][[\"label\"]]\n",
    "df_nodes_award = df_nodes[df_nodes[\"type\"] == \"AWARD\"][[\"label\"]]\n",
    "df_nodes_discovery = df_nodes[df_nodes[\"type\"] == \"DISCOVERY\"][[\"label\"]]\n",
    "df_nodes_location = df_nodes[df_nodes[\"type\"] == \"LOCATION\"][[\"label\"]]\n",
    "conn.execute(\"COPY Person FROM df_nodes_person\");\n",
    "conn.execute(\"COPY Award FROM df_nodes_award\");\n",
    "conn.execute(\"COPY Discovery FROM df_nodes_discovery\");\n",
    "conn.execute(\"COPY Location FROM df_nodes_location\");"
   ]
  },
  {
   "cell_type": "markdown",
   "id": "d1be8f6d-b91d-442b-a6c8-e27df595fbe6",
   "metadata": {},
   "source": [
    "### Check for nodes"
   ]
  },
  {
   "cell_type": "code",
   "execution_count": 38,
   "id": "e358d2df-542b-4010-87aa-b67185efee89",
   "metadata": {
    "execution": {
     "iopub.execute_input": "2024-12-04T23:06:48.658947Z",
     "iopub.status.busy": "2024-12-04T23:06:48.658468Z",
     "iopub.status.idle": "2024-12-04T23:06:48.680420Z",
     "shell.execute_reply": "2024-12-04T23:06:48.679900Z",
     "shell.execute_reply.started": "2024-12-04T23:06:48.658900Z"
    }
   },
   "outputs": [
    {
     "name": "stdout",
     "output_type": "stream",
     "text": [
      "['Marie Curie']\n",
      "['Pierre Curie']\n",
      "['Henri Becquerel']\n",
      "['Paul Langevin']\n"
     ]
    }
   ],
   "source": [
    "#| echo: true\n",
    "result = conn.execute(\"MATCH (person:Person) RETURN person.name;\")\n",
    "while result.has_next():\n",
    "    print(result.get_next())"
   ]
  },
  {
   "cell_type": "markdown",
   "id": "ce95f603-f0fa-42ce-ac37-c3087c96a36c",
   "metadata": {},
   "source": [
    "### Insert edges to the graph db"
   ]
  },
  {
   "cell_type": "code",
   "execution_count": 40,
   "id": "18916909-a458-4daa-818a-01c4f0a23bbf",
   "metadata": {
    "execution": {
     "iopub.execute_input": "2024-12-04T23:06:48.703509Z",
     "iopub.status.busy": "2024-12-04T23:06:48.703370Z",
     "iopub.status.idle": "2024-12-04T23:06:48.732060Z",
     "shell.execute_reply": "2024-12-04T23:06:48.731244Z",
     "shell.execute_reply.started": "2024-12-04T23:06:48.703496Z"
    },
    "scrolled": true
   },
   "outputs": [],
   "source": [
    "#| echo: true\n",
    "conn.execute(\"CREATE REL TABLE Awarded(FROM Person TO Award)\"); # create schema\n",
    "conn.execute(\"CREATE REL TABLE Discovered(FROM Person TO Discovery)\");\n",
    "conn.execute(\"CREATE REL TABLE Interpersonal_Relationship(FROM Person TO Person)\");\n",
    "conn.execute(\"CREATE REL TABLE Visited(FROM Person TO Location)\");\n",
    "def my_func(edge_type: str, source: str, target: str):\n",
    "    mask1 = [a in list(df_nodes[df_nodes[\"type\"] == source]['label']) for a in df_edges[df_edges[\"type\"] == edge_type][\"source\"]]\n",
    "    mask2 = [a in list(df_nodes[df_nodes[\"type\"] == target]['label']) for a in df_edges[df_edges[\"type\"] == edge_type][\"target\"]]\n",
    "    mask = [a & b for a,b in zip(mask1,mask2)]\n",
    "    return df_edges[df_edges[\"type\"] == edge_type][mask]\n",
    "df_edges_awarded = my_func(\"AWARDED\", \"PERSON\", \"AWARD\")[[\"source\", \"target\"]]\n",
    "df_edges_discovered = my_func(\"DISCOVERED\", \"PERSON\", \"DISCOVERY\")[[\"source\", \"target\"]]\n",
    "df_edges_visited = my_func(\"VISITED\", \"PERSON\", \"LOCATION\")[[\"source\", \"target\"]]\n",
    "df_edges_interpersonal_relationship = my_func(\"INTERPERSONALRELATIONSHIP\", \"PERSON\", \"PERSON\")[[\"source\", \"target\"]]\n",
    "conn.execute(\"COPY Discovered FROM df_edges_discovered\"); # copy from dataframes\n",
    "conn.execute(\"COPY Awarded FROM df_edges_awarded\");\n",
    "conn.execute(\"COPY Visited FROM df_edges_visited\");\n",
    "conn.execute(\"COPY Interpersonal_Relationship FROM df_edges_interpersonal_relationship\");"
   ]
  },
  {
   "cell_type": "markdown",
   "id": "e272a957-6390-47af-ac8f-4a07b512b4af",
   "metadata": {},
   "source": [
    "### Check for edges"
   ]
  },
  {
   "cell_type": "code",
   "execution_count": 41,
   "id": "92ac5a3f-d0ee-456c-90de-65e75a9c2214",
   "metadata": {
    "execution": {
     "iopub.execute_input": "2024-12-04T23:06:48.733756Z",
     "iopub.status.busy": "2024-12-04T23:06:48.733189Z",
     "iopub.status.idle": "2024-12-04T23:06:48.747259Z",
     "shell.execute_reply": "2024-12-04T23:06:48.746192Z",
     "shell.execute_reply.started": "2024-12-04T23:06:48.733691Z"
    }
   },
   "outputs": [
    {
     "name": "stdout",
     "output_type": "stream",
     "text": [
      "['Marie Curie', 'Polonium']\n",
      "['Marie Curie', 'Radium']\n",
      "['Pierre Curie', 'Piezoelectricity']\n"
     ]
    }
   ],
   "source": [
    "#| echo: true\n",
    "result = conn.execute(\"MATCH (a)-[:DISCOVERED]->(c) RETURN a.name, c.name;\")\n",
    "while result.has_next():\n",
    "    print(result.get_next())"
   ]
  },
  {
   "cell_type": "markdown",
   "id": "f7ce9048-f251-4ad5-ae9b-c898704bdcc0",
   "metadata": {},
   "source": [
    "# KG-based Agents"
   ]
  },
  {
   "cell_type": "markdown",
   "id": "4006e75c-c41a-4f0e-8839-700a050ca49c",
   "metadata": {},
   "source": [
    "### {.nostretch}\n",
    "\n",
    "![](./assets/KG-Agent.jpg \"Knowledge Graph Based Agent\"){fig-align=\"center\" width=\"80%\"}"
   ]
  },
  {
   "cell_type": "markdown",
   "id": "254208f8-9b75-4043-b5b9-598461716031",
   "metadata": {},
   "source": [
    "## Tools"
   ]
  },
  {
   "cell_type": "markdown",
   "id": "d1b1c1f1-c0e4-4c78-9c45-7405a923e158",
   "metadata": {},
   "source": [
    "### Tool: Query Checker"
   ]
  },
  {
   "cell_type": "code",
   "execution_count": 42,
   "id": "aaa6d802-dfc8-42ea-9d16-27a7dd737360",
   "metadata": {
    "execution": {
     "iopub.execute_input": "2024-12-04T23:06:48.748998Z",
     "iopub.status.busy": "2024-12-04T23:06:48.748494Z",
     "iopub.status.idle": "2024-12-04T23:06:48.755146Z",
     "shell.execute_reply": "2024-12-04T23:06:48.753964Z",
     "shell.execute_reply.started": "2024-12-04T23:06:48.748955Z"
    }
   },
   "outputs": [],
   "source": [
    "#| echo: true\n",
    "def build_kuzu_query_checker_prompt(cypher_query):\n",
    "    return (\n",
    "    f\"\\n{cypher_query}\\n\"\n",
    "    \"Double check the Kùzu dialect of Cypher for the query above \"\n",
    "    \"for common mistakes, including:\\n\"\n",
    "    \"- Using the correct number of arguments for functions\\n\"\n",
    "    \"- Casting to the correct data type\\n\"\n",
    "    \"- Do not omit the relationship pattern.\\n\" \n",
    "    \"- Always use `()-[]->()` instead of `()->()`.\\n\\n\"\n",
    "    \"If there are any of the above mistakes, rewrite the query. \"\n",
    "    \"If there are no mistakes, just reproduce the original query.\\n\\n\"\n",
    "    \"Output the final Kùzu Cypher query only.\\n\\n\"\n",
    "    \"Kùzu Cypher Query: \"\n",
    "    )"
   ]
  },
  {
   "cell_type": "markdown",
   "id": "65038434-ddce-48f4-998e-a81e779e4eb8",
   "metadata": {},
   "source": [
    "### Tool: Query Checker"
   ]
  },
  {
   "cell_type": "code",
   "execution_count": 43,
   "id": "43c3527a-7845-4ed6-9667-6429bf367653",
   "metadata": {
    "execution": {
     "iopub.execute_input": "2024-12-04T23:06:48.756867Z",
     "iopub.status.busy": "2024-12-04T23:06:48.756338Z",
     "iopub.status.idle": "2024-12-04T23:06:49.340249Z",
     "shell.execute_reply": "2024-12-04T23:06:49.339463Z",
     "shell.execute_reply.started": "2024-12-04T23:06:48.756824Z"
    }
   },
   "outputs": [
    {
     "data": {
      "text/plain": [
       "\"MATCH (p:Person)-[:Discovered]->(d:Discovery {name: 'Polonium'})\\nRETURN *\""
      ]
     },
     "execution_count": 43,
     "metadata": {},
     "output_type": "execute_result"
    }
   ],
   "source": [
    "#| echo: true\n",
    "def query_checker_tool(cypher_query):\n",
    "    user_prompt = build_kuzu_query_checker_prompt(cypher_query)\n",
    "    response = llm.create_chat_completion(\n",
    "        messages=[{\"role\": \"user\", \"content\": user_prompt}]\n",
    "    )\n",
    "    return response[\"choices\"][0][\"message\"][\"content\"]\n",
    "\n",
    "\n",
    "query_checker_tool(\n",
    "\"MATCH (p:Person)-[:Discovered]-<(:Discovery {name: 'Polonium'})\\nRETURN *\"\n",
    ")"
   ]
  },
  {
   "cell_type": "code",
   "execution_count": 44,
   "id": "47a52243-ad25-4e8c-a04e-3db02887e98b",
   "metadata": {
    "execution": {
     "iopub.execute_input": "2024-12-04T23:06:49.340892Z",
     "iopub.status.busy": "2024-12-04T23:06:49.340743Z",
     "iopub.status.idle": "2024-12-04T23:06:50.069766Z",
     "shell.execute_reply": "2024-12-04T23:06:50.068797Z",
     "shell.execute_reply.started": "2024-12-04T23:06:49.340878Z"
    }
   },
   "outputs": [
    {
     "data": {
      "text/plain": [
       "\"MATCH (s:SONG)-[:IN_ALBUM]->(a:ALBUM)\\nWHERE a.name = 'The Black Album'\\nRETURN COUNT(s)\""
      ]
     },
     "execution_count": 44,
     "metadata": {},
     "output_type": "execute_result"
    }
   ],
   "source": [
    "#| output: false\n",
    "query_checker_tool(\"\"\"MATCH (s:SONG)-[:IN_ALBUM]-<(:ALBUM {name: 'The Black Album'})\\nRETURN COUNT(s)\"\"\")"
   ]
  },
  {
   "cell_type": "markdown",
   "id": "45097b65-559d-441c-9319-c7dcfa51b0e0",
   "metadata": {},
   "source": [
    "### Tool: Query Generator + Executor"
   ]
  },
  {
   "cell_type": "code",
   "execution_count": 45,
   "id": "de649793-9675-4092-8822-69ed8e7ff7c6",
   "metadata": {
    "execution": {
     "iopub.execute_input": "2024-12-04T23:06:50.070412Z",
     "iopub.status.busy": "2024-12-04T23:06:50.070269Z",
     "iopub.status.idle": "2024-12-04T23:06:50.097926Z",
     "shell.execute_reply": "2024-12-04T23:06:50.096768Z",
     "shell.execute_reply.started": "2024-12-04T23:06:50.070398Z"
    }
   },
   "outputs": [
    {
     "name": "stdout",
     "output_type": "stream",
     "text": [
      "Node properties: [{'properties': [('name', 'STRING')], 'label': 'Person'}, {'properties': [('name', 'STRING')], 'label': 'Discovery'}, {'properties': [('name', 'STRING')], 'label': 'Award'}, {'properties': [('name', 'STRING')], 'label': 'Location'}]\n",
      "Relationships properties: [{'properties': [], 'label': 'Awarded'}, {'properties': [], 'label': 'Discovered'}, {'properties': [], 'label': 'Interpersonal_Relationship'}, {'properties': [], 'label': 'Visited'}]\n",
      "Relationships: ['(:Person)-[:Awarded]->(:Award)', '(:Person)-[:Discovered]->(:Discovery)', '(:Person)-[:Interpersonal_Relationship]->(:Person)', '(:Person)-[:Visited]->(:Location)']\n",
      "\n"
     ]
    }
   ],
   "source": [
    "#| echo: true\n",
    "from langchain_community.graphs import KuzuGraph\n",
    "\n",
    "graph_db_schema = KuzuGraph(db).get_schema\n",
    "print(graph_db_schema)"
   ]
  },
  {
   "cell_type": "markdown",
   "id": "7b49b00f-ed03-4297-abc6-f91e338e6e57",
   "metadata": {},
   "source": [
    "### Tool: Query Generator + Executor"
   ]
  },
  {
   "cell_type": "code",
   "execution_count": 46,
   "id": "72cf56ea-4acb-4828-ad64-054eed28c01e",
   "metadata": {
    "execution": {
     "iopub.execute_input": "2024-12-04T23:06:50.099808Z",
     "iopub.status.busy": "2024-12-04T23:06:50.099265Z",
     "iopub.status.idle": "2024-12-04T23:06:50.106216Z",
     "shell.execute_reply": "2024-12-04T23:06:50.105004Z",
     "shell.execute_reply.started": "2024-12-04T23:06:50.099764Z"
    }
   },
   "outputs": [],
   "source": [
    "#| echo: true\n",
    "def build_kuzu_prompt(query, graph_db_schema=graph_db_schema):\n",
    "    return \"\"\"Task: Generate Kùzu Cypher statement to query a graph database.\n",
    "\n",
    "Instructions:\n",
    "Generate the Kùzu dialect of Cypher with the following rules in mind:\n",
    "1. Do not omit the relationship pattern. Always use `()-[]->()` instead of `()->()`.\n",
    "2. Do not include triple backticks ``` in your response. Return only Cypher.\n",
    "3. Do not return any notes or comments in your response.\n",
    "\n",
    "Use only the provided relationship types and properties in the schema.\n",
    "Do not use any other relationship types or properties that are not provided.\n",
    "Schema:\\n\"\"\" + graph_db_schema + \"\"\"\n",
    "\\nExample:\n",
    "The question is:\\n\"Which songs does the load album have?\"\n",
    "MATCH (a:ALBUM {name: 'Load'})<-[:IN_ALBUM]-(s:SONG) RETURN s.name\n",
    "Note: Do not include any explanations or apologies in your responses.\n",
    "Do not respond to any questions that might ask anything else than for you to construct a Cypher statement.\n",
    "Do not include any text except the generated Cypher statement.\n",
    "\n",
    "The question is:\\n\"\"\" + query"
   ]
  },
  {
   "cell_type": "markdown",
   "id": "70871c82-e980-4347-a6fb-ea04dce44ccd",
   "metadata": {},
   "source": [
    "### Tool: Query Generator + Executor"
   ]
  },
  {
   "cell_type": "code",
   "execution_count": 64,
   "id": "f1d8b119-427b-4807-99a4-f7b92ee7e4e1",
   "metadata": {
    "execution": {
     "iopub.execute_input": "2024-12-05T10:07:10.755236Z",
     "iopub.status.busy": "2024-12-05T10:07:10.754685Z",
     "iopub.status.idle": "2024-12-05T10:07:12.296382Z",
     "shell.execute_reply": "2024-12-05T10:07:12.295737Z",
     "shell.execute_reply.started": "2024-12-05T10:07:10.755189Z"
    }
   },
   "outputs": [
    {
     "name": "stdout",
     "output_type": "stream",
     "text": [
      "\u001b[33m Cypher query: MATCH (p:Person {name: 'Marie Curie'})-[:Discovered]->(d:Discovery) RETURN d.name \u001b[0m\n"
     ]
    },
    {
     "data": {
      "text/plain": [
       "\"[d.name: ['Radium', 'Polonium']]\""
      ]
     },
     "execution_count": 64,
     "metadata": {},
     "output_type": "execute_result"
    }
   ],
   "source": [
    "#| echo: true\n",
    "def query_generator_tool(query):\n",
    "    user_prompt = build_kuzu_prompt(query)\n",
    "    output = llm.create_chat_completion(\n",
    "        messages = [{\"role\": \"user\", \"content\": user_prompt}]\n",
    "    )\n",
    "    cypher_query = output['choices'][0]['message']['content']\n",
    "    cypher_query = query_checker_tool(cypher_query)\n",
    "    print(f\"\\x1b[33m Cypher query: {cypher_query} \\x1b[0m\")\n",
    "    response = conn.execute(f\"{cypher_query}\");\n",
    "    df = response.get_as_pl()\n",
    "    col_name = df.columns[0]\n",
    "    _values = df[col_name].to_list()\n",
    "    return f\"[{col_name}: {_values}]\"\n",
    "query_generator_tool(\"What discovery is Marie Curie famous for?\")"
   ]
  },
  {
   "cell_type": "code",
   "execution_count": 48,
   "id": "d86cdd87-25eb-4079-8e63-1804366e7a8a",
   "metadata": {
    "execution": {
     "iopub.execute_input": "2024-12-04T23:06:50.120382Z",
     "iopub.status.busy": "2024-12-04T23:06:50.119955Z",
     "iopub.status.idle": "2024-12-04T23:06:51.748507Z",
     "shell.execute_reply": "2024-12-04T23:06:51.747526Z",
     "shell.execute_reply.started": "2024-12-04T23:06:50.120340Z"
    }
   },
   "outputs": [
    {
     "name": "stdout",
     "output_type": "stream",
     "text": [
      "\u001b[33m Cypher query: MATCH (p:Person {name: 'Marie Curie'})-[:Discovered]->(d:Discovery) RETURN d.name \u001b[0m\n"
     ]
    },
    {
     "data": {
      "text/plain": [
       "\"[d.name: ['Radium', 'Polonium']]\""
      ]
     },
     "execution_count": 48,
     "metadata": {},
     "output_type": "execute_result"
    }
   ],
   "source": [
    "#| output: false\n",
    "query_generator_tool(\"What discovery is Marie Curie famous for?\")"
   ]
  },
  {
   "cell_type": "markdown",
   "id": "d3c21abf-3a72-47f9-a3c7-b1b5f845e2f6",
   "metadata": {},
   "source": [
    "### Tool: Conversational Response"
   ]
  },
  {
   "cell_type": "code",
   "execution_count": 49,
   "id": "90248226-d0af-4e29-80ea-5094bcd973cb",
   "metadata": {
    "execution": {
     "iopub.execute_input": "2024-12-04T23:06:51.750155Z",
     "iopub.status.busy": "2024-12-04T23:06:51.749627Z",
     "iopub.status.idle": "2024-12-04T23:06:51.754646Z",
     "shell.execute_reply": "2024-12-04T23:06:51.753716Z",
     "shell.execute_reply.started": "2024-12-04T23:06:51.750115Z"
    }
   },
   "outputs": [],
   "source": [
    "#| echo: true\n",
    "def conversational_response(text):\n",
    "    return text"
   ]
  },
  {
   "cell_type": "code",
   "execution_count": 50,
   "id": "1c2b93a7-025d-481e-9078-6435aac67e5a",
   "metadata": {
    "execution": {
     "iopub.execute_input": "2024-12-04T23:06:51.756167Z",
     "iopub.status.busy": "2024-12-04T23:06:51.755678Z",
     "iopub.status.idle": "2024-12-04T23:06:51.781354Z",
     "shell.execute_reply": "2024-12-04T23:06:51.780475Z",
     "shell.execute_reply.started": "2024-12-04T23:06:51.756129Z"
    }
   },
   "outputs": [
    {
     "data": {
      "text/plain": [
       "\"Respond to the user's greeting in a friendly manner.\""
      ]
     },
     "execution_count": 50,
     "metadata": {},
     "output_type": "execute_result"
    }
   ],
   "source": [
    "#| output: false\n",
    "conversational_response(\"\"\"Respond to the user's greeting in a friendly manner.\"\"\")"
   ]
  },
  {
   "cell_type": "markdown",
   "id": "a7f08206-ba6e-47fa-a9e9-7ae1eddbfad2",
   "metadata": {},
   "source": [
    "## ReAct agent"
   ]
  },
  {
   "cell_type": "code",
   "execution_count": 51,
   "id": "c63a7f07-211b-485c-9bef-ae4b463dd781",
   "metadata": {
    "execution": {
     "iopub.execute_input": "2024-12-04T23:06:51.782927Z",
     "iopub.status.busy": "2024-12-04T23:06:51.782426Z",
     "iopub.status.idle": "2024-12-04T23:06:51.795712Z",
     "shell.execute_reply": "2024-12-04T23:06:51.794580Z",
     "shell.execute_reply.started": "2024-12-04T23:06:51.782890Z"
    }
   },
   "outputs": [],
   "source": [
    "#| echo: true\n",
    "from pydantic import BaseModel, Field\n",
    "\n",
    "\n",
    "class Reason_and_Act(BaseModel):\n",
    "    Scratchpad: str = Field(\n",
    "        ...,\n",
    "        description=\"Information from the Observation useful to answer the question\",\n",
    "    )\n",
    "    Thought: str = Field(\n",
    "        ...,\n",
    "        description=\"It describes your thoughts about the question you have been asked\",\n",
    "    )\n",
    "    Action: Literal[\"conversational_response\", \"query_generator\", \"query_checker\"] = (\n",
    "        Field(..., description=\"The action to take\")\n",
    "    )\n",
    "    Action_Input: str = Field(..., description=\"The arguments of the Action.\")"
   ]
  },
  {
   "cell_type": "markdown",
   "id": "4f0cb1c2-2d0d-4c3f-984b-ebb6f02d60dd",
   "metadata": {},
   "source": [
    "### ReAct Agent"
   ]
  },
  {
   "cell_type": "code",
   "execution_count": 52,
   "id": "3bc045f5-884e-4f9e-b219-7ce3902bfa9f",
   "metadata": {
    "execution": {
     "iopub.execute_input": "2024-12-04T23:06:51.797153Z",
     "iopub.status.busy": "2024-12-04T23:06:51.796764Z",
     "iopub.status.idle": "2024-12-04T23:06:51.813594Z",
     "shell.execute_reply": "2024-12-04T23:06:51.812454Z",
     "shell.execute_reply.started": "2024-12-04T23:06:51.797115Z"
    }
   },
   "outputs": [],
   "source": [
    "#| echo: true\n",
    "class Final_Answer(BaseModel):\n",
    "    Scratchpad: str = Field(\n",
    "        ...,\n",
    "        description=\"Information from the Observation useful to answer the question\",\n",
    "    )\n",
    "    Final_Answer: str = Field(\n",
    "        ..., description=\"Answer to the question grounded on the Observation\"\n",
    "    )"
   ]
  },
  {
   "cell_type": "markdown",
   "id": "c0d11e5f-5973-494e-be4a-105a01c2c3ff",
   "metadata": {},
   "source": [
    "### ReAct Agent"
   ]
  },
  {
   "cell_type": "code",
   "execution_count": 53,
   "id": "9e26ca92-b4dc-4fea-997c-3c93fc283be4",
   "metadata": {
    "execution": {
     "iopub.execute_input": "2024-12-04T23:06:51.815061Z",
     "iopub.status.busy": "2024-12-04T23:06:51.814677Z",
     "iopub.status.idle": "2024-12-04T23:06:51.827391Z",
     "shell.execute_reply": "2024-12-04T23:06:51.826240Z",
     "shell.execute_reply.started": "2024-12-04T23:06:51.815023Z"
    }
   },
   "outputs": [],
   "source": [
    "#| echo: true\n",
    "class Decision(BaseModel):\n",
    "    Decision: Reason_and_Act | Final_Answer"
   ]
  },
  {
   "cell_type": "markdown",
   "id": "7cee86d9-cb00-4c59-bb76-627c4501816d",
   "metadata": {},
   "source": [
    "### ReAct Agent"
   ]
  },
  {
   "cell_type": "code",
   "execution_count": 54,
   "id": "c26d9b60-dd92-47be-a36f-0593a71c2822",
   "metadata": {
    "execution": {
     "iopub.execute_input": "2024-12-04T23:06:51.828859Z",
     "iopub.status.busy": "2024-12-04T23:06:51.828468Z",
     "iopub.status.idle": "2024-12-04T23:06:51.843075Z",
     "shell.execute_reply": "2024-12-04T23:06:51.842132Z",
     "shell.execute_reply.started": "2024-12-04T23:06:51.828821Z"
    }
   },
   "outputs": [],
   "source": [
    "#| echo: true\n",
    "from outlines.fsm.json_schema import convert_json_schema_to_str\n",
    "from outlines.fsm.json_schema import build_regex_from_schema\n",
    "\n",
    "schema_str = convert_json_schema_to_str(json_schema=Decision.schema_json())\n",
    "regex_str = build_regex_from_schema(schema_str)"
   ]
  },
  {
   "cell_type": "markdown",
   "id": "9c767e8c-a61d-4570-aaf4-f19c0c1c7ecf",
   "metadata": {},
   "source": [
    "### ReAct Agent"
   ]
  },
  {
   "cell_type": "code",
   "execution_count": 55,
   "id": "707a820d-2bcb-48de-953c-7e356a0793d9",
   "metadata": {
    "execution": {
     "iopub.execute_input": "2024-12-04T23:06:51.844563Z",
     "iopub.status.busy": "2024-12-04T23:06:51.844174Z",
     "iopub.status.idle": "2024-12-04T23:06:51.856415Z",
     "shell.execute_reply": "2024-12-04T23:06:51.855469Z",
     "shell.execute_reply.started": "2024-12-04T23:06:51.844526Z"
    }
   },
   "outputs": [],
   "source": [
    "#| echo: true\n",
    "def generate_hermes_prompt(question, schema=\"\"):\n",
    "    return (\n",
    "        \"<|im_start|>system\\n\"\n",
    "        \"You are a world class AI model who answers questions in JSON with correct Pydantic schema.\"\n",
    "        f\"\\nHere's the JSON schema you must adhere to:\\n<schema>\\n{schema}\\n</schema>\\n\"\n",
    "        \"You run in a loop of Scratchpad, Thought, Action, Action Input, PAUSE, Observation.\"\n",
    "        \"\\nAt the end of the loop you output a Final Answer. \"\n",
    "        \"\\n- Use Scratchpad to store the information from the observation useful to answer the question\"\n",
    "        \"\\n- Use Thought to describe your thoughts about the question you have been asked \"\n",
    "        \"and reflect carefully about the Observation if it exists. \"\n",
    "        \"\\n- Use Action to run one of the actions available to you. \"\n",
    "        \"\\n- Use Action Input to input the arguments of the selected action - then return PAUSE. \"\n",
    "        \"\\n- Observation will be the result of running those actions. \"\n",
    "        \"\\nYour available actions are:\\n\"\n",
    "        \"query_generator:\\n\" \n",
    "        \"e.g. query_generator: Who is Marie Curie related to?\\n\"\n",
    "        \"Returns a detailed and correct Kùzu Cypher query\\n\"\n",
    "        \"query_checker:\\n\"\n",
    "        \"e.g. query_checker: MATCH (a:ALBUM {name: 'The Black Album'})<-[:IN_ALBUM]-(s:SONG) RETURN COUNT(s)\\n\"\n",
    "        \"Returns a detailed and correct Kùzu Cypher query after double checking the query for common mistakes\\n\"\n",
    "        \"conversational_reponse:\"\n",
    "        \"e.g. conversational_response: Hi!\\n\"\n",
    "        \"Returns a conversational response to the user\\n\"\n",
    "        \"DO NOT TRY TO GUESS THE ANSWER. Begin! <|im_end|>\"\n",
    "        \"\\n<|im_start|>user\\n\" + question + \"<|im_end|>\"\n",
    "        \"\\n<|im_start|>assistant\\n\"\n",
    "    )"
   ]
  },
  {
   "cell_type": "markdown",
   "id": "3bc79021-a40f-4ba0-a5cc-1a9ef3785658",
   "metadata": {},
   "source": [
    "### ReAct Agent"
   ]
  },
  {
   "cell_type": "code",
   "execution_count": 56,
   "id": "0c42adda-f533-42f9-99a1-52210ff13bc2",
   "metadata": {
    "execution": {
     "iopub.execute_input": "2024-12-04T23:06:51.857901Z",
     "iopub.status.busy": "2024-12-04T23:06:51.857494Z",
     "iopub.status.idle": "2024-12-04T23:06:51.873331Z",
     "shell.execute_reply": "2024-12-04T23:06:51.872349Z",
     "shell.execute_reply.started": "2024-12-04T23:06:51.857863Z"
    }
   },
   "outputs": [],
   "source": [
    "#| echo: true\n",
    "from outlines import generate, models\n",
    "model = models.LlamaCpp(llm)"
   ]
  },
  {
   "cell_type": "markdown",
   "id": "3f8385b7-a95f-43ea-9084-6d8db5299531",
   "metadata": {},
   "source": [
    "### ReAct Agent"
   ]
  },
  {
   "cell_type": "code",
   "execution_count": 57,
   "id": "7f8ffd64-4697-49f7-a0d7-f0968fc7632d",
   "metadata": {
    "execution": {
     "iopub.execute_input": "2024-12-04T23:06:51.874823Z",
     "iopub.status.busy": "2024-12-04T23:06:51.874436Z",
     "iopub.status.idle": "2024-12-04T23:06:51.886298Z",
     "shell.execute_reply": "2024-12-04T23:06:51.885077Z",
     "shell.execute_reply.started": "2024-12-04T23:06:51.874785Z"
    }
   },
   "outputs": [],
   "source": [
    "#| echo: true\n",
    "class ChatBot:\n",
    "    def __init__(self, prompt=\"\"):\n",
    "        self.prompt = prompt\n",
    "\n",
    "    def __call__(self, user_prompt):\n",
    "        self.prompt += user_prompt\n",
    "        result = self.execute()\n",
    "        return result\n",
    "        \n",
    "    def execute(self):\n",
    "        generator = generate.regex(model, regex_str)\n",
    "        result = generator(self.prompt, max_tokens=1024, temperature=0, seed=42)\n",
    "        return result"
   ]
  },
  {
   "cell_type": "markdown",
   "id": "8c7a368c-7fd0-4863-8f0a-965818bd8adb",
   "metadata": {},
   "source": [
    "### ReAct Agent"
   ]
  },
  {
   "cell_type": "code",
   "execution_count": 58,
   "id": "d426a6e7-11f2-4d92-ae90-d4b521d63a1a",
   "metadata": {
    "execution": {
     "iopub.execute_input": "2024-12-04T23:06:51.887855Z",
     "iopub.status.busy": "2024-12-04T23:06:51.887458Z",
     "iopub.status.idle": "2024-12-04T23:06:51.907660Z",
     "shell.execute_reply": "2024-12-04T23:06:51.906416Z",
     "shell.execute_reply.started": "2024-12-04T23:06:51.887816Z"
    }
   },
   "outputs": [],
   "source": [
    "#| echo: true\n",
    "import json\n",
    "\n",
    "def query(question, max_turns=5):\n",
    "    i = 0\n",
    "    next_prompt = (\n",
    "        \"\\n<|im_start|>user\\n\" + question + \"<|im_end|>\"\n",
    "        \"\\n<|im_start|>assistant\\n\"\n",
    "    )\n",
    "    previous_actions = []\n",
    "    while i < max_turns:\n",
    "        i += 1\n",
    "        prompt = generate_hermes_prompt(question=question, schema=Decision.schema_json())\n",
    "        bot = ChatBot(prompt=prompt)\n",
    "        result = bot(next_prompt)\n",
    "        json_result = json.loads(result)['Decision']\n",
    "        if \"Final_Answer\" not in list(json_result.keys()):\n",
    "            scratchpad = json_result['Scratchpad'] if i == 0 else \"\"\n",
    "            thought = json_result['Thought']\n",
    "            action = json_result['Action']\n",
    "            action_input = json_result['Action_Input']\n",
    "            print(f\"\\x1b[34m Scratchpad: {scratchpad} \\x1b[0m\")\n",
    "            print(f\"\\x1b[34m Thought: {thought} \\x1b[0m\")\n",
    "            print(f\"\\x1b[36m  -- running {action}: {str(action_input)}\\x1b[0m\")\n",
    "            if action + \": \" + str(action_input) in previous_actions:\n",
    "                observation = \"You already run that action. **TRY A DIFFERENT ACTION INPUT.**\"\n",
    "            else:\n",
    "                if action==\"query_checker\":\n",
    "                    try:\n",
    "                        observation = query_checker_tool(str(action_input))\n",
    "                    except Exception as e:\n",
    "                        observation = f\"{e}\"\n",
    "                elif action==\"query_generator\":\n",
    "                    try:\n",
    "                        observation = query_generator_tool(str(action_input))\n",
    "                    except Exception as e:\n",
    "                        observation = f\"{e}\"\n",
    "                elif action==\"conversational_response\":\n",
    "                    try:\n",
    "                        observation = conversational_response(str(action_input))\n",
    "                        observation += \"\\nAnswer to the user.\"\n",
    "                    except Exception as e:\n",
    "                        observation = f\"{e}\"\n",
    "            print()\n",
    "            print(f\"\\x1b[33m Observation: {observation} \\x1b[0m\")\n",
    "            print()\n",
    "            previous_actions.append(action + \": \" + str(action_input))\n",
    "            next_prompt += (\n",
    "                \"\\nScratchpad: \" + scratchpad +\n",
    "                \"\\nThought: \" + thought +\n",
    "                \"\\nAction: \" + action  +\n",
    "                \"\\nAction Input: \" + action_input +\n",
    "                \"\\nObservation: \" + str(observation)\n",
    "            )\n",
    "        else:\n",
    "            scratchpad = json_result[\"Scratchpad\"]\n",
    "            final_answer = json_result[\"Final_Answer\"]\n",
    "            print(f\"\\x1b[34m Scratchpad: {scratchpad} \\x1b[0m\")\n",
    "            print(f\"\\x1b[34m Final Answer: {final_answer} \\x1b[0m\")\n",
    "            return final_answer\n",
    "    print(f\"\\nFinal Answer: I am sorry, but I am unable to answer your question. Please provide more information or a different question.\")\n",
    "    return \"No answer found\""
   ]
  },
  {
   "cell_type": "markdown",
   "id": "7db6c94e-08ff-4fb7-910d-71946ad4b9cd",
   "metadata": {},
   "source": [
    "### ReAct Agent"
   ]
  },
  {
   "cell_type": "code",
   "execution_count": 65,
   "id": "808df81c-5c73-4bb7-b133-f6f9b02171c5",
   "metadata": {
    "execution": {
     "iopub.execute_input": "2024-12-05T10:35:22.869636Z",
     "iopub.status.busy": "2024-12-05T10:35:22.869072Z",
     "iopub.status.idle": "2024-12-05T10:35:29.270429Z",
     "shell.execute_reply": "2024-12-05T10:35:29.269133Z",
     "shell.execute_reply.started": "2024-12-05T10:35:22.869588Z"
    }
   },
   "outputs": [
    {
     "name": "stdout",
     "output_type": "stream",
     "text": [
      "\u001b[34m Scratchpad:  \u001b[0m\n",
      "\u001b[34m Thought: To find out which discovery Pierre Curie is known for, I should query the database for information about his scientific contributions. \u001b[0m\n",
      "\u001b[36m  -- running query_generator: MATCH (p:PERSON {name: 'Pierre Curie'})-[:DISCOVERED]->(d:DISCOVERY) RETURN d.name\u001b[0m\n",
      "\u001b[33m Cypher query: MATCH (p:PERSON {name: 'Pierre Curie'})-[:DISCOVERED]->(d:DISCOVERY) RETURN d.name \u001b[0m\n",
      "\n",
      "\u001b[33m Observation: [d.name: ['Piezoelectricity']] \u001b[0m\n",
      "\n",
      "\u001b[34m Scratchpad: Pierre Curie is known for discovering piezoelectricity. \u001b[0m\n",
      "\u001b[34m Final Answer: Pierre Curie discovered piezoelectricity. \u001b[0m\n"
     ]
    },
    {
     "data": {
      "text/plain": [
       "'Pierre Curie discovered piezoelectricity.'"
      ]
     },
     "execution_count": 65,
     "metadata": {},
     "output_type": "execute_result"
    }
   ],
   "source": [
    "#| echo: true\n",
    "query(\"Query the database to see which discovery did Pierre Curie do?\")"
   ]
  },
  {
   "cell_type": "markdown",
   "id": "e8e8a5ab-6dfd-4b25-8d4c-8054ce8dd036",
   "metadata": {},
   "source": [
    "### ReAct Agent"
   ]
  },
  {
   "cell_type": "code",
   "execution_count": 66,
   "id": "5810a77c-26c8-4e84-aa2d-20c512fdf280",
   "metadata": {
    "execution": {
     "iopub.execute_input": "2024-12-05T10:36:01.774540Z",
     "iopub.status.busy": "2024-12-05T10:36:01.774016Z",
     "iopub.status.idle": "2024-12-05T10:36:08.241424Z",
     "shell.execute_reply": "2024-12-05T10:36:08.240241Z",
     "shell.execute_reply.started": "2024-12-05T10:36:01.774495Z"
    }
   },
   "outputs": [
    {
     "name": "stdout",
     "output_type": "stream",
     "text": [
      "\u001b[34m Scratchpad:  \u001b[0m\n",
      "\u001b[34m Thought: To find out which discovery Marie Curie is known for, I will query the database to search for her discoveries. \u001b[0m\n",
      "\u001b[36m  -- running query_generator: MATCH (p:PERSON {name: 'Marie Curie'})-[:DISCOVERED]->(d:DISCOVERY) RETURN d.name\u001b[0m\n",
      "\u001b[33m Cypher query: MATCH (p:PERSON {name: 'Marie Curie'})-[:DISCOVERED]->(d:DISCOVERY) RETURN d.name \u001b[0m\n",
      "\n",
      "\u001b[33m Observation: [d.name: ['Radium', 'Polonium']] \u001b[0m\n",
      "\n",
      "\u001b[34m Scratchpad: Marie Curie is known for discovering Radium and Polonium. \u001b[0m\n",
      "\u001b[34m Final Answer: Marie Curie discovered Radium and Polonium. \u001b[0m\n"
     ]
    },
    {
     "data": {
      "text/plain": [
       "'Marie Curie discovered Radium and Polonium.'"
      ]
     },
     "execution_count": 66,
     "metadata": {},
     "output_type": "execute_result"
    }
   ],
   "source": [
    "#| echo: true\n",
    "query(\"Query the database to see which discovery did Marie Curie do?\")"
   ]
  },
  {
   "cell_type": "markdown",
   "id": "7f72fddd-8cf9-4b23-b04b-9f0731eedfb1",
   "metadata": {},
   "source": [
    "### ReAct Agent"
   ]
  },
  {
   "cell_type": "code",
   "execution_count": 67,
   "id": "3cc8de62-2b40-490c-b1ae-21dd54d6d952",
   "metadata": {
    "execution": {
     "iopub.execute_input": "2024-12-05T10:36:18.408952Z",
     "iopub.status.busy": "2024-12-05T10:36:18.408425Z",
     "iopub.status.idle": "2024-12-05T10:36:22.473586Z",
     "shell.execute_reply": "2024-12-05T10:36:22.472828Z",
     "shell.execute_reply.started": "2024-12-05T10:36:18.408906Z"
    }
   },
   "outputs": [
    {
     "name": "stdout",
     "output_type": "stream",
     "text": [
      "\u001b[34m Scratchpad:  \u001b[0m\n",
      "\u001b[34m Thought: To provide a joke, I will use my knowledge base to find a suitable joke that is appropriate for all ages. \u001b[0m\n",
      "\u001b[36m  -- running conversational_response: Tell a family-friendly joke.\u001b[0m\n",
      "\n",
      "\u001b[33m Observation: Tell a family-friendly joke.\n",
      "Answer to the user. \u001b[0m\n",
      "\n",
      "\u001b[34m Scratchpad: To provide a joke, I will use my knowledge base to find a suitable joke that is appropriate for all ages. \u001b[0m\n",
      "\u001b[34m Final Answer: Why don't scientists trust atoms? Because they make up everything! \u001b[0m\n"
     ]
    },
    {
     "data": {
      "text/plain": [
       "\"Why don't scientists trust atoms? Because they make up everything!\""
      ]
     },
     "execution_count": 67,
     "metadata": {},
     "output_type": "execute_result"
    }
   ],
   "source": [
    "#| echo: true\n",
    "query(\"Tell me a joke\")"
   ]
  },
  {
   "cell_type": "markdown",
   "id": "544a66a5-2beb-4323-bb40-95cbdb3b623b",
   "metadata": {},
   "source": [
    "# Conclusions"
   ]
  },
  {
   "cell_type": "markdown",
   "id": "0f6888d3-026e-4a8a-82a3-f50b73b6ed44",
   "metadata": {},
   "source": [
    "### Conclusions\n",
    "\n",
    "- Structured Outputs + Structured Generation help us to generate Knowledge Graphs from unstructured data\n",
    "- Structured Outputs + Structured Generation help us create KG-based Agents that can query graph databases as well as calling other tools"
   ]
  },
  {
   "cell_type": "markdown",
   "id": "27f5aeb4-eedd-4285-ae71-1c9a55835262",
   "metadata": {},
   "source": [
    "### References {visibility=\"uncounted\"}\n",
    "\n",
    "- Kùzu (graph DB) + Llama.cpp (inference) + Outlines (structured outputs) + LangChain (framework) + Solara (visualization)"
   ]
  },
  {
   "cell_type": "markdown",
   "id": "a4d79f31-d443-43f0-a815-743344f2360d",
   "metadata": {},
   "source": [
    "### How was my presentation? {visibility=\"uncounted\"}\n",
    "\n",
    "Please, leave me your anonymous feedback at [https://www.admonymous.co/alonsosilva](https://www.admonymous.co/alonsosilva)"
   ]
  }
 ],
 "metadata": {
  "jupytext": {
   "formats": "ipynb,qmd"
  },
  "kernelspec": {
   "display_name": "Python 3 (ipykernel)",
   "language": "python",
   "name": "python3"
  },
  "language_info": {
   "codemirror_mode": {
    "name": "ipython",
    "version": 3
   },
   "file_extension": ".py",
   "mimetype": "text/x-python",
   "name": "python",
   "nbconvert_exporter": "python",
   "pygments_lexer": "ipython3",
   "version": "3.12.4"
  }
 },
 "nbformat": 4,
 "nbformat_minor": 5
}
